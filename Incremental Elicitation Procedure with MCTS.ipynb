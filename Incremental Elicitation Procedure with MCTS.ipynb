{
 "cells": [
  {
   "cell_type": "markdown",
   "metadata": {},
   "source": [
    "### Import des bibliothéques: "
   ]
  },
  {
   "cell_type": "code",
   "execution_count": 1,
   "metadata": {},
   "outputs": [],
   "source": [
    "import numpy as np \n",
    "from mip import Model, xsum, maximize \n",
    "import math"
   ]
  },
  {
   "cell_type": "markdown",
   "metadata": {},
   "source": [
    "### Classe MCTSNode: \n",
    "- La classe MCTSNode représente un nœud dans l'arbre de décision utilisé par l'algorithme de Monte Carlo Tree Search (MCTS).\n",
    "\n",
    "- Chaque nœud a un état (\"state\") qui représente une alternative (par exemple, une option que le décideur pourrait choisir).\n",
    "- Chaque nœud a une référence à son nœud parent (\"parent\"), permettant de remonter dans l'arbre.\n",
    "- Les nœuds peuvent avoir plusieurs enfants (\"children\"), représentant des alternatives qui peuvent être explorées à partir de cet état.\n",
    "- \"visits\" compte combien de fois ce nœud a été exploré, ce qui aide à évaluer son utilité.\n",
    "- \"value\" accumule les résultats des simulations pour ce nœud, indiquant la qualité de l'alternative qu'il représente."
   ]
  },
  {
   "cell_type": "code",
   "execution_count": 2,
   "metadata": {},
   "outputs": [],
   "source": [
    "# Classe représentant un nœud de l'arbre MCTS\n",
    "class MCTSNode:\n",
    "    def __init__(self, state, parent=None):\n",
    "        self.state = state  # L'état ou l'alternative\n",
    "        self.parent = parent  # Parent du nœud\n",
    "        self.children = []  # Les enfants du nœud\n",
    "        self.visits = 0  # Nombre de visites de ce nœud\n",
    "        self.value = 0  # Valeur cumulée du nœud (par exemple, regret ou score)\n",
    "    \n",
    "    def add_child(self, child_state):\n",
    "        \"\"\"Ajoute un enfant à ce nœud.\"\"\"\n",
    "        child_node = MCTSNode(state=child_state, parent=self)\n",
    "        self.children.append(child_node)\n",
    "        return child_node"
   ]
  },
  {
   "cell_type": "markdown",
   "metadata": {},
   "source": [
    "### 1. Fonction M_Omega"
   ]
  },
  {
   "cell_type": "code",
   "execution_count": 3,
   "metadata": {},
   "outputs": [],
   "source": [
    "# Fonction pour calculer le modèle de décision avec les poids\n",
    "def M_omega(x, omega):\n",
    "    return np.dot(x, omega)"
   ]
  },
  {
   "cell_type": "markdown",
   "metadata": {},
   "source": [
    "- Calcule l'évaluation d'une solution 'x' avec un vecteur de poids 'omega'.\n",
    "    \n",
    "    Args:\n",
    "    - x (array-like): Vecteur représentant une solution avec ses scores pour chaque critère.\n",
    "    - omega (array-like): Vecteur représentant les poids associés à chaque critère.\n",
    "    \n",
    "    Returns:\n",
    "    - float: La somme pondérée des scores de 'x' selon les poids 'omega'."
   ]
  },
  {
   "cell_type": "markdown",
   "metadata": {},
   "source": [
    "### 2. Fonction Query"
   ]
  },
  {
   "cell_type": "code",
   "execution_count": 4,
   "metadata": {},
   "outputs": [],
   "source": [
    "# Fonction pour poser une question au décideur (simulée aléatoirement ici)\n",
    "def Query(x, y):\n",
    "    print(f\"Comparaison entre {x} et {y}\")\n",
    "    return x if np.random.rand() > 0.5 else y"
   ]
  },
  {
   "cell_type": "markdown",
   "metadata": {},
   "source": [
    " - Pose une question au décideur pour comparer deux solutions 'x' et 'y'.\n",
    "    La réponse est simulée par un choix aléatoire.\n",
    "    \n",
    "    Args:\n",
    "    - x (array-like): Première solution à comparer.\n",
    "    - y (array-like): Seconde solution à comparer.\n",
    "    \n",
    "    Returns:\n",
    "    - array-like: La solution préférée entre 'x' et 'y'."
   ]
  },
  {
   "cell_type": "markdown",
   "metadata": {},
   "source": [
    "#### Résolution du probléme linéaire pour calculer PMR en utilisant MIP"
   ]
  },
  {
   "cell_type": "markdown",
   "metadata": {},
   "source": [
    "La fonction PMR calcule le regret maximum par paires entre deux solutions x et y, en tenant compte des poids admissibles définis dans \n",
    "Ω. Le regret est la différence entre les évaluations des deux solutions, maximisée pour le pire ensemble de poids possible dans le polytope Ω. \n",
    "\n",
    "- Modélisation du problème : On modélise cela comme un problème de programmation linéaire où on veut maximiser la différence entre l’évaluation de y et de x en fonction des poids w (qui sont les variables de décision dans le modèle).\n",
    "\n",
    "- On introduit une variable w pour chaque critère (chaque dimension du problème). Ces variables représentent les poids wi associés à chaque critère, qui doivent être trouvés pour maximiser le regret. Ces poids doivent respecter des contraintes de normalisation (somme égale à 1) et les autres contraintes définies dans Ω.\n",
    "\n",
    "- Ajout des contraintes de Ω: Ω est un polytope défini par un ensemble de contraintes linéaires. Chaque contrainte dans Ω a la forme d’une équation linéaire qui doit être respectée pour que les poids soient admissibles. Dans le code, on itère sur toutes les contraintes définies dans Ω et on les ajoute au modèle.\n",
    "\n",
    "-L’objectif est de maximiser la différence entre l'évaluation de y et x, c'est-à-dire maximiser Mw(y)-Mw(x), où Mw(.) est l’évaluation pondérée d’une solution par rapport aux poids w. Cela revient à maximiser la somme pondérée des différences entre y[i] et x[i]."
   ]
  },
  {
   "cell_type": "markdown",
   "metadata": {},
   "source": [
    "### 3. Fonction PMR"
   ]
  },
  {
   "cell_type": "code",
   "execution_count": 5,
   "metadata": {},
   "outputs": [],
   "source": [
    "# Fonction pour calculer le regret maximum par paires en tenant compte des contraintes de m\n",
    "def PMR(x, y, m):  \n",
    "    m_crit = len(x)  # Nombre de critères\n",
    "\n",
    "    # Variables de décision : poids w_i pour chaque critère\n",
    "    w = [m.add_var(lb=0) for _ in range(m_crit)]\n",
    "    \n",
    "    # Contrainte : somme des poids w_i = 1 (normalisation des poids)\n",
    "    m += xsum(w[i] for i in range(m_crit)) == 1\n",
    "\n",
    "    # Objectif : maximiser la différence pondérée entre 'y' et 'x'\n",
    "    m.objective = maximize(xsum(w[i] * (y[i] - x[i]) for i in range(m_crit)))\n",
    "    \n",
    "    # Résoudre le problème\n",
    "    m.optimize()\n",
    "    \n",
    "    # Obtenir le regret maximal (valeur de la fonction objectif)\n",
    "    return m.objective_value"
   ]
  },
  {
   "cell_type": "markdown",
   "metadata": {},
   "source": [
    " - Calcule le regret maximum par paires (PMR) entre deux solutions 'x' et 'y'.\n",
    "    Utilise la programmation linéaire pour maximiser le regret sous les contraintes définies dans 'Omega'.\n",
    "    \n",
    "    Args:\n",
    "    - x (array-like): Première solution.\n",
    "    - y (array-like): Seconde solution.\n",
    "    - m (Model): Modèle MIP dans lequel les contraintes et l'objectif seront définis.\n",
    "    \n",
    "    Returns:\n",
    "    - float: La valeur du regret maximum entre 'x' et 'y', optimisée avec le modèle MIP."
   ]
  },
  {
   "cell_type": "markdown",
   "metadata": {},
   "source": [
    "### 4. Fonction Update : Mise à jour du polytope Ω"
   ]
  },
  {
   "cell_type": "markdown",
   "metadata": {},
   "source": [
    "La fonction Update a pour but de mettre à jour le polytope Ω, qui représente l'ensemble des poids possibles, en fonction des réponses du décideur à une question de préférence entre deux solutions x et y.\n",
    "\n",
    "- Décision du décideur : Le décideur est interrogé pour savoir s'il préfère x ou y. En fonction de sa réponse, on sait que le modèle de décision sous-jacent doit respecter certaines relations linéaires entre les poids w:\n",
    "    * Si x est préféré à y, cela signifie que la somme pondérée des critères pour x doit être plus grande ou égale à celle de y:         Mw(x) >= Mw(y).\n",
    "    * Sinon, l'inverse.\n",
    "\n",
    "- Ici, les coefficients de la contrainte sont la différence entre les vecteurs x et y. Le côté droit de l'inégalité est 0 car on compare directement les évaluations pondérées.\n",
    "\n",
    "- Mise à jour du polytope Ω : Une nouvelle contrainte est ajoutée au polytope Ω à chaque nouvelle réponse. Cette contrainte réduit l'espace des poids admissibles en excluant ceux qui ne respectent pas la préférence du décideur. Cette mise à jour affine la connaissance des préférences du décideur."
   ]
  },
  {
   "cell_type": "code",
   "execution_count": 6,
   "metadata": {},
   "outputs": [],
   "source": [
    "# Fonction pour mettre à jour le polytope des poids possibles dans m\n",
    "def Update(m, answer, x, y):\n",
    "    \"\"\"Met à jour le modèle MIP 'm' avec une nouvelle contrainte en fonction de la réponse du décideur.\"\"\"\n",
    "    if np.array_equal(answer, x):\n",
    "        # x est préféré à y -> ajouter la contrainte M_omega(x) >= M_omega(y)\n",
    "        new_constraint = xsum((x[i] - y[i]) * m.var_by_name(f\"w[{i}]\") for i in range(len(x))) >= 0\n",
    "    else:\n",
    "        # y est préféré à x -> ajouter la contrainte M_omega(y) >= M_omega(x)\n",
    "        new_constraint = xsum((y[i] - x[i]) * m.var_by_name(f\"w[{i}]\") for i in range(len(x))) >= 0\n",
    "    \n",
    "    # Ajouter la nouvelle contrainte au modèle\n",
    "    m += new_constraint\n",
    "    \n",
    "    return m"
   ]
  },
  {
   "cell_type": "markdown",
   "metadata": {},
   "source": [
    " - Met à jour le modèle MIP 'm' avec une nouvelle contrainte en fonction de la réponse du décideur.\n",
    "    Si 'x' est préféré à 'y', on ajoute une contrainte qui reflète cette préférence, et inversement.\n",
    "\n",
    "    Args:\n",
    "    - m (Model): Modèle MIP à mettre à jour.\n",
    "    - answer (array): L'alternative préférée par le décideur (résultat de la fonction 'Query').\n",
    "    - x (array): Première alternative comparée.\n",
    "    - y (array): Deuxième alternative comparée.\n",
    "\n",
    "    Returns:\n",
    "    - Model: Le modèle MIP mis à jour avec la nouvelle contrainte."
   ]
  },
  {
   "cell_type": "markdown",
   "metadata": {},
   "source": [
    "### Fonctions MR et mMR:"
   ]
  },
  {
   "cell_type": "code",
   "execution_count": 7,
   "metadata": {},
   "outputs": [],
   "source": [
    "# Fonction pour calculer le regret maximum (MR)\n",
    "def MR(x, X, m):\n",
    "    \"\"\"Calcule le regret maximum pour une alternative donnée 'x' par rapport à toutes les autres alternatives dans 'X'.\"\"\"\n",
    "    return max(PMR(x, y, m) for y in X if not np.array_equal(x, y))"
   ]
  },
  {
   "cell_type": "markdown",
   "metadata": {},
   "source": [
    "\n",
    "\n",
    "-  Calcule le regret maximum pour une alternative donnée 'x' par rapport à toutes les autres alternatives dans 'X'.\n",
    "\n",
    "    Args:\n",
    "    - x (array): L'alternative pour laquelle on veut calculer le regret.\n",
    "    - X (array of arrays): Ensemble d'alternatives à comparer avec 'x'.\n",
    "    - m (Model): Modèle MIP utilisé pour optimiser les regrets.\n",
    "\n",
    "    Returns:\n",
    "    - float: Le regret maximum pour 'x' par rapport aux autres alternatives dans 'X'."
   ]
  },
  {
   "cell_type": "code",
   "execution_count": 8,
   "metadata": {},
   "outputs": [],
   "source": [
    "# Fonction pour calculer le regret minimax (mMR) et obtenir les solutions x_star et y_star\n",
    "def mMR(X, m):\n",
    "    \"\"\"Calcule le regret minimax, c'est-à-dire l'alternative qui minimise son regret maximum par rapport aux autres.\"\"\"\n",
    "    x_star = min(X, key=lambda x: MR(x, X, m))\n",
    "    y_star = max(X, key=lambda y: PMR(x_star, y, m))\n",
    "    max_regret = MR(x_star, X, m)\n",
    "    return max_regret, x_star, y_star"
   ]
  },
  {
   "cell_type": "markdown",
   "metadata": {},
   "source": [
    "\n",
    "\n",
    " - Calcule le regret minimax, c'est-à-dire l'alternative qui minimise son regret maximum par rapport aux autres.\n",
    "\n",
    "    Args:\n",
    "    - X (array of arrays): Ensemble d'alternatives.\n",
    "    - m (Model): Modèle MIP utilisé pour optimiser les regrets.\n",
    "\n",
    "    Returns:\n",
    "    - tuple: (max_regret, x_star, y_star)\n",
    "        - max_regret (float): Le regret minimax pour 'x_star'.\n",
    "        - x_star (array): L'alternative qui minimise le regret maximum.\n",
    "        - y_star (array): L'alternative qui maximise le regret par rapport à 'x_star'."
   ]
  },
  {
   "cell_type": "markdown",
   "metadata": {},
   "source": [
    "### 5. Fonction uct_value"
   ]
  },
  {
   "cell_type": "markdown",
   "metadata": {},
   "source": [
    "- La fonction uct_value calcule la valeur UCT pour un nœud donné afin de guider la sélection.\n",
    "\n",
    "- Si le nœud n'a pas été visité, il est priorisé pour l'exploration.\n",
    "- La formule combine le score moyen du nœud (valeur par nombre de visites) et un terme d'exploration qui favorise les nœuds moins explorés.\n",
    "- Cela aide à trouver un équilibre entre explorer de nouvelles alternatives et exploiter celles déjà connues."
   ]
  },
  {
   "cell_type": "code",
   "execution_count": 9,
   "metadata": {},
   "outputs": [],
   "source": [
    "def uct_value(node, exploration_param=1.41):\n",
    "    if node.visits == 0:\n",
    "        return float('inf')  # Favoriser l'exploration des nœuds non visités\n",
    "    return node.value / node.visits + exploration_param * math.sqrt(math.log(node.parent.visits) / node.visits)\n"
   ]
  },
  {
   "cell_type": "markdown",
   "metadata": {},
   "source": [
    "- Calcule la valeur UCT (Upper Confidence Bound) pour un nœud, afin de guider la sélection des nœuds dans l'arbre MCTS.\n",
    "\n",
    "Args:\n",
    "- node : Nœud pour lequel on calcule la valeur UCT.\n",
    "- exploration_param : Paramètre de pondération qui contrôle le compromis entre exploration et exploitation.\n",
    "\n",
    "Returns: \n",
    "- Une valeur numérique représentant l'attractivité du nœud pour la sélection."
   ]
  },
  {
   "cell_type": "markdown",
   "metadata": {},
   "source": [
    "### 6. Fonction select_best_node"
   ]
  },
  {
   "cell_type": "markdown",
   "metadata": {},
   "source": [
    "- La fonction select_best_node utilise la valeur UCT pour sélectionner le meilleur enfant d'un nœud.\n",
    "\n",
    "- Elle parcourt tous les enfants et retourne celui qui présente la valeur UCT la plus élevée, favorisant ainsi un bon compromis entre exploration et exploitation."
   ]
  },
  {
   "cell_type": "code",
   "execution_count": 10,
   "metadata": {},
   "outputs": [],
   "source": [
    "def select_best_node(node):\n",
    "    return max(node.children, key=uct_value)\n"
   ]
  },
  {
   "cell_type": "markdown",
   "metadata": {},
   "source": [
    "- Sélectionne le meilleur nœud parmi les enfants d'un nœud donné, en utilisant la valeur UCT.\n",
    "\n",
    "Args:\n",
    "- node : Nœud parent dont on souhaite choisir le meilleur enfant.\n",
    "\n",
    "Returns: \n",
    "- Le nœud enfant ayant la valeur UCT la plus élevée."
   ]
  },
  {
   "cell_type": "markdown",
   "metadata": {},
   "source": [
    "### 7. Fonction simulate"
   ]
  },
  {
   "cell_type": "markdown",
   "metadata": {},
   "source": [
    "- La fonction simulate exécute une série de simulations à partir d'un nœud donné.\n",
    "\n",
    "- Elle commence par calculer le regret maximum et continue de poser des questions au décideur jusqu'à ce que le regret soit inférieur à un seuil epsilon.\n",
    "- Elle utilise la fonction Query pour obtenir la préférence et la fonction Update pour ajuster le modèle en fonction des réponses du décideur."
   ]
  },
  {
   "cell_type": "code",
   "execution_count": 11,
   "metadata": {},
   "outputs": [],
   "source": [
    "def simulate(node, X, m, epsilon):\n",
    "    alternative = node.state  # L'alternative pour laquelle on simule\n",
    "    max_regret, x_star, y_star = mMR(X, m)\n",
    "    \n",
    "    while max_regret >= epsilon:\n",
    "        answer = Query(x_star, y_star)\n",
    "        m = Update(m, answer, x_star, y_star)\n",
    "        max_regret, x_star, y_star = mMR(X, m)\n",
    "    \n",
    "    return max_regret\n"
   ]
  },
  {
   "cell_type": "markdown",
   "metadata": {},
   "source": [
    "- Simule une série de décisions à partir d'un nœud pour explorer les conséquences de certaines alternatives.\n",
    "\n",
    "Args:\n",
    "- node : Nœud à partir duquel on effectue la simulation.\n",
    "- X : Ensemble des alternatives.\n",
    "- m : Modèle de programmation linéaire (MIP) pour les calculs.\n",
    "- epsilon : Tolérance pour le regret.\n",
    "\n",
    "Returns: \n",
    "- Le regret maximal calculé à la fin de la simulation."
   ]
  },
  {
   "cell_type": "markdown",
   "metadata": {},
   "source": [
    "### 8. Fonction backpropagate:"
   ]
  },
  {
   "cell_type": "markdown",
   "metadata": {},
   "source": [
    "- La fonction backpropagate met à jour les statistiques d'un nœud et de ses ancêtres dans l'arbre après une simulation.\n",
    "\n",
    "- Elle incrémente le compteur de visites et ajuste la valeur cumulée en fonction du résultat obtenu lors de la simulation.\n",
    "- Cela permet de propager l'information à travers l'arbre, influençant les futures décisions."
   ]
  },
  {
   "cell_type": "code",
   "execution_count": 12,
   "metadata": {},
   "outputs": [],
   "source": [
    "def backpropagate(node, result):\n",
    "    while node is not None:\n",
    "        node.visits += 1\n",
    "        node.value += result  # Mise à jour de la valeur (peut être le score ou regret)\n",
    "        node = node.parent\n"
   ]
  },
  {
   "cell_type": "markdown",
   "metadata": {},
   "source": [
    "- Met à jour les valeurs des nœuds parcourus après une simulation, en augmentant le nombre de visites et la valeur cumulative.\n",
    "\n",
    "Args:\n",
    "- node : Nœud à partir duquel on commence la rétropropagation.\n",
    "- result : Résultat de la simulation (par exemple, le regret).\n",
    "\n",
    "Returns: \n",
    "- Met à jour les statistiques des nœuds parcourus jusqu'à la racine."
   ]
  },
  {
   "cell_type": "markdown",
   "metadata": {},
   "source": [
    "### 9. Fonction mcts_search"
   ]
  },
  {
   "cell_type": "markdown",
   "metadata": {},
   "source": [
    "- La fonction mcts_search exécute l'algorithme MCTS pour explorer l'espace des solutions.\n",
    "\n",
    "- Elle effectue un nombre défini de simulations (num_simulations), sélectionnant des nœuds à explorer et en ajoutant de nouveaux nœuds si nécessaire.\n",
    "- Après chaque simulation, elle met à jour l'arbre en utilisant les résultats pour influencer les décisions futures.\n",
    "- À la fin, elle retourne l'état le plus visité, qui représente la meilleure alternative trouvée."
   ]
  },
  {
   "cell_type": "code",
   "execution_count": 13,
   "metadata": {},
   "outputs": [],
   "source": [
    "def mcts_search(root, X, m, epsilon, num_simulations=1000):\n",
    "    for _ in range(num_simulations):\n",
    "        node = root\n",
    "        \n",
    "        while node.children:\n",
    "            node = select_best_node(node)\n",
    "        \n",
    "        if node.visits > 0:\n",
    "            new_state = np.random.choice(X)  # Choisir un nouvel état ou alternative\n",
    "            node = node.add_child(new_state)\n",
    "        \n",
    "        result = simulate(node, X, m, epsilon)\n",
    "        backpropagate(node, result)\n",
    "    \n",
    "    return max(root.children, key=lambda n: n.visits).state\n"
   ]
  },
  {
   "cell_type": "markdown",
   "metadata": {},
   "source": [
    "- Effectue la recherche MCTS pour explorer les alternatives et sélectionner la meilleure solution.\n",
    "\n",
    "Args:\n",
    "- root : Nœud racine de l'arbre de recherche.\n",
    "- X : Ensemble des alternatives.\n",
    "- m : Modèle de programmation linéaire (MIP) pour les calculs.\n",
    "- epsilon : Tolérance pour le regret.\n",
    "- num_simulations : Nombre de simulations à effectuer.\n",
    "\n",
    "Returns\n",
    "- L'alternative optimale trouvée après toutes les simulations."
   ]
  },
  {
   "cell_type": "markdown",
   "metadata": {},
   "source": [
    "### 10. Fonction vanilla_incremental_elicitation_with_mcts"
   ]
  },
  {
   "cell_type": "markdown",
   "metadata": {},
   "source": [
    "- Cette fonction intègre MCTS dans l'algorithme d'élucidation incrémentale.\n",
    "\n",
    "- Elle initialise un nœud racine pour MCTS et lance la recherche MCTS pour identifier la meilleure alternative parmi l'ensemble X.\n",
    "- Le résultat final, c'est-à-dire l'alternative optimale recommandée, est affiché et retourné."
   ]
  },
  {
   "cell_type": "code",
   "execution_count": 14,
   "metadata": {},
   "outputs": [],
   "source": [
    "def vanilla_incremental_elicitation_with_mcts(X, m, epsilon):\n",
    "    root = MCTSNode(state=None)  # Aucun état initial\n",
    "    solution = mcts_search(root, X, m, epsilon)\n",
    "    print(f\"Solution finale recommandée avec MCTS: {solution}\")\n",
    "    return solution\n"
   ]
  },
  {
   "cell_type": "markdown",
   "metadata": {},
   "source": [
    "- Lance l'algorithme d'élucidation incrémentale en utilisant MCTS pour trouver la meilleure alternative.\n",
    "\n",
    "Args:\n",
    "- X : Ensemble des alternatives.\n",
    "- m : Modèle de programmation linéaire (MIP).\n",
    "- epsilon : Tolérance pour le regret.\n",
    "\n",
    "Returns:\n",
    "- L'alternative optimale trouvée par MCTS."
   ]
  },
  {
   "cell_type": "markdown",
   "metadata": {},
   "source": [
    "### Exemple d'elicitation"
   ]
  },
  {
   "cell_type": "code",
   "execution_count": 15,
   "metadata": {},
   "outputs": [],
   "source": [
    "def exemple_elicitation():\n",
    "    X = np.array([[0.5, 0.2], [0.7, 0.1], [0.6, 0.3]])  # Ensemble de solutions\n",
    "    m = Model()  # Initialisation du modèle MIP\n",
    "    epsilon = 0.1  # Tolérance pour le regret minimax\n",
    "    solution = vanilla_incremental_elicitation_with_mcts(X, m, epsilon)\n",
    "    print(f\"\\nSolution finale recommandée: {solution}\")\n"
   ]
  }
 ],
 "metadata": {
  "kernelspec": {
   "display_name": "env",
   "language": "python",
   "name": "python3"
  },
  "language_info": {
   "codemirror_mode": {
    "name": "ipython",
    "version": 3
   },
   "file_extension": ".py",
   "mimetype": "text/x-python",
   "name": "python",
   "nbconvert_exporter": "python",
   "pygments_lexer": "ipython3",
   "version": "3.11.5"
  }
 },
 "nbformat": 4,
 "nbformat_minor": 2
}
