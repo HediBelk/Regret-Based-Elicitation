{
 "cells": [
  {
   "cell_type": "markdown",
   "id": "cdbcfc6f",
   "metadata": {},
   "source": [
    "# Risk with the rank-Dependent utility :"
   ]
  },
  {
   "cell_type": "markdown",
   "id": "5c1c4dd3",
   "metadata": {},
   "source": [
    "### Import des bibiliothéques"
   ]
  },
  {
   "cell_type": "code",
   "execution_count": 3,
   "id": "ae4932f0",
   "metadata": {},
   "outputs": [],
   "source": [
    "import numpy as np\n",
    "import matplotlib.pyplot as plt\n",
    "from math import*\n",
    "from mip import Model, xsum, maximize, BINARY\n",
    "from mip import *"
   ]
  },
  {
   "cell_type": "markdown",
   "id": "db298062",
   "metadata": {},
   "source": [
    "### Définir la classe Loterie"
   ]
  },
  {
   "cell_type": "code",
   "execution_count": 4,
   "id": "92da2232",
   "metadata": {},
   "outputs": [],
   "source": [
    "class Loterie:\n",
    "    def __init__(self, loterie):\n",
    "        # Initialisation de l'objet Loterie avec une liste de résultats probables\n",
    "        self.loterie = loterie\n",
    "        self.validate_loterie()  # Validation de la structure de la loterie\n",
    "        self.sort_loterie()      # Tri des éléments de la loterie\n",
    "\n",
    "    def validate_loterie(self):\n",
    "        # Vérifie que chaque élément de la loterie est une liste [xi, pi]\n",
    "        if not all(isinstance(i, list) and len(i) == 2 for i in self.loterie):\n",
    "            raise ValueError(\"Chaque élément de la loterie doit être une liste de la forme [xi, pi].\")\n",
    "        \n",
    "        # Vérifie que la somme des probabilités pi est égale à 1\n",
    "        if not np.isclose(sum(p for _, p in self.loterie), 1.0):\n",
    "            raise ValueError(\"La somme des probabilités doit être égale à 1.\")\n",
    "        \n",
    "    def sort_loterie(self):\n",
    "        # Trie la loterie par les valeurs xi en ordre décroissant\n",
    "        self.loterie.sort(key=lambda x: x[0], reverse=True)\n",
    "\n",
    "    def calculer_RDU(self, w, u):\n",
    "        \n",
    "        n = len(self.loterie)\n",
    "        prob_cumulee = np.zeros(n)  # Initialisation du tableau des probabilités cumulées\n",
    "        V = 0.0  # Initialisation de la valeur RDU\n",
    "\n",
    "        # Calcul des probabilités cumulées\n",
    "        for i in range(n):\n",
    "            if i == 0:\n",
    "                prob_cumulee[i] = self.loterie[i][1]\n",
    "            else:\n",
    "                prob_cumulee[i] = prob_cumulee[i - 1] + self.loterie[i][1]\n",
    "\n",
    "        # Calcul de la valeur RDU en utilisant les probabilités cumulées et les différences d'utilité\n",
    "        for i in range(n - 1):\n",
    "            delta_u = u(self.loterie[i][0]) - u(self.loterie[i + 1][0])\n",
    "            V += w(prob_cumulee[i]) * delta_u\n",
    "\n",
    "        # Ajouter la dernière contribution du dernier gain\n",
    "        V += w(prob_cumulee[-1]) * u(self.loterie[-1][0])\n",
    "\n",
    "        return V"
   ]
  },
  {
   "cell_type": "markdown",
   "id": "cd24d572",
   "metadata": {},
   "source": [
    "### Classe Loterie:\n",
    "Cette classe représente une loterie composée de différentes issues, chacune ayant une récompense et une probabilité associée. La classe fournit des méthodes pour valider, trier et calculer une valeur pondérée de la loterie en utilisant des fonctions spécifiques.\n",
    "\n",
    "#### Méthodes\n",
    "\n",
    "###### __init__(self, loterie)\n",
    "\n",
    "- Constructeur de la classe.\n",
    "- Paramètre : loterie (list) - Une liste de listes où chaque sous-liste est de la forme [xi, pi], avec xi représentant la récompense et pi la probabilité associée.\n",
    "- Actions :\n",
    "  * Initialise l'attribut loterie avec la liste fournie.\n",
    "  * Appelle la méthode validate_loterie pour valider la loterie.\n",
    "   * Appelle la méthode sort_loterie pour trier la loterie par les récompenses xi en ordre décroissant.\n",
    " \n",
    "###### validate_loterie(self)\n",
    "- Valide la structure de la loterie.\n",
    "- Actions :\n",
    "  * Vérifie que chaque élément de loterie est une liste de la forme [xi, pi].\n",
    "  * Vérifie que la somme des probabilités pi est égale à 1.\n",
    "- Lève une ValueError si l'une des conditions n'est pas remplie.\n",
    "\n",
    "##### sort_loterie(self)\n",
    "\n",
    "- Trie la loterie par les récompenses xi en ordre décroissant.\n",
    "- Actions :\n",
    "  * Utilise la méthode sort avec un lambda fonction pour trier les éléments de loterie en ordre décroissant basé sur les valeurs de xi.\n",
    "  \n",
    "##### calculate_V(self, w, u)\n",
    "\n",
    "- Calcule la valeur pondérée de la loterie en utilisant des fonctions de pondération et d'utilité.\n",
    "- Paramètres :\n",
    "  * w (function) - Fonction de pondération des probabilités cumulées.\n",
    "  * u (function) - Fonction d'utilité pour les récompenses.\n",
    "- Retourne : La valeur pondérée calculée.\n",
    "- Actions :\n",
    "  * Calcule les probabilités cumulées pour chaque issue de la loterie.\n",
    "  * Utilise la fonction de pondération w et la fonction d'utilité u pour calculer la somme pondérée des différences d'utilité entre chaque issue consécutive."
   ]
  },
  {
   "cell_type": "markdown",
   "id": "8d81ff98",
   "metadata": {},
   "source": [
    "#### Test de la classe Loterie (loterie valide):"
   ]
  },
  {
   "cell_type": "code",
   "execution_count": 5,
   "id": "178a3d91",
   "metadata": {},
   "outputs": [
    {
     "name": "stdout",
     "output_type": "stream",
     "text": [
      "Loterie valide créée avec succès.\n",
      "Loterie triée : [[500, 0.5], [300, 0.3], [200, 0.2]]\n",
      "la valeur de la loterie l sous RDU : 18.781136441357397\n"
     ]
    }
   ],
   "source": [
    "loterie_valide = [[500, 0.5], [300, 0.3], [200, 0.2]]\n",
    "\n",
    "# créer une instance de loterie:\n",
    "try:\n",
    "    l = Loterie(loterie_valide)\n",
    "    print(\"Loterie valide créée avec succès.\")\n",
    "except ValueError as e:\n",
    "    print(f\"Erreur : {e}\")\n",
    "    \n",
    "#Affichage de la loterie triée:\n",
    "print(\"Loterie triée :\", l.loterie)\n",
    "\n",
    "# fonction de pondération w et fonction d'utilité u:\n",
    "def w(p):\n",
    "    return (p**0.5) / (p**0.5 + (1-p)**0.5)\n",
    "\n",
    "def u(x):\n",
    "    return sqrt(x)\n",
    "\n",
    "#calculer la valeur de la loterie:\n",
    "valeur_loterie = l.calculer_RDU(w,u)\n",
    "print(\"la valeur de la loterie l sous RDU :\", valeur_loterie)"
   ]
  },
  {
   "cell_type": "code",
   "execution_count": 6,
   "metadata": {},
   "outputs": [
    {
     "name": "stdout",
     "output_type": "stream",
     "text": [
      "380.0\n"
     ]
    }
   ],
   "source": [
    "print(l.calculer_RDU(lambda x:x, lambda x:x)) "
   ]
  },
  {
   "cell_type": "markdown",
   "id": "e4029c61",
   "metadata": {},
   "source": [
    "#### Test de la classe Loterie(loterie invalide):"
   ]
  },
  {
   "cell_type": "code",
   "execution_count": 8,
   "id": "c9ab67c1",
   "metadata": {},
   "outputs": [
    {
     "name": "stdout",
     "output_type": "stream",
     "text": [
      "Erreur (probabilités) : La somme des probabilités doit être égale à 1.\n",
      "Erreur (format) : Chaque élément de la loterie doit être une liste de la forme [xi, pi].\n",
      "Loterie créée avec succées.\n",
      "Loterie triée : [[500, 0.5], [300, 0.3], [200, 0.2]]\n"
     ]
    }
   ],
   "source": [
    "#Tester une loterie invalide (probabilités ne sommant pas 1):\n",
    "loterie_invalide_1 = [[500, 0.5], [300, 0.3], [200, 0.3]]\n",
    "try:\n",
    "    l_invalide = Loterie(loterie_invalide_1)\n",
    "    print(\"Loterie invalide créée avec succées.\")\n",
    "except ValueError as e:\n",
    "    print(f\"Erreur (probabilités) : {e}\")\n",
    "    \n",
    "\n",
    "#Tester une loterie invalide (format):\n",
    "loterie_invalide_2 = [[500, 0.5], [300, 0.3, 0.1], [200, 0.2]]\n",
    "try:\n",
    "    l_invalide = Loterie(loterie_invalide_2)\n",
    "    print(\"Loterie invalide créée avec succées.\")\n",
    "except ValueError as e:\n",
    "    print(f\"Erreur (format) : {e}\")\n",
    "    \n",
    "#Tester une loterie non triée:\n",
    "loterie_non_triée = [[200, 0.2], [500, 0.5], [300, 0.3]]\n",
    "try:\n",
    "    l = Loterie(loterie_non_triée)\n",
    "    print(\"Loterie créée avec succées.\")\n",
    "    print(\"Loterie triée :\", l.loterie)\n",
    "except ValueError as e:\n",
    "        print(f\"Erreur : {e}\") "
   ]
  },
  {
   "cell_type": "code",
   "execution_count": 9,
   "id": "e20c6ed2",
   "metadata": {},
   "outputs": [],
   "source": [
    "def u(x):\n",
    "    return sqrt(x)"
   ]
  },
  {
   "cell_type": "code",
   "execution_count": 10,
   "id": "b422817f",
   "metadata": {},
   "outputs": [],
   "source": [
    "def V(loterie, w, u):\n",
    "    return loterie.calculer_RDU(w, u)"
   ]
  },
  {
   "cell_type": "markdown",
   "id": "e0985eac",
   "metadata": {},
   "source": [
    "#### Évalue la valeur d'une loterie sous le modèle RDU.\n",
    "\n",
    "    Attributs:\n",
    "    - loterie : Instance de Loterie.\n",
    "    - w : Fonction de pondération des probabilités.\n",
    "    - u : Fonction d'utilité.\n",
    "\n",
    "    Returns:\n",
    "    - Valeur calculée de la loterie."
   ]
  },
  {
   "cell_type": "markdown",
   "id": "72712533",
   "metadata": {},
   "source": [
    "### Dominance stochastique"
   ]
  },
  {
   "cell_type": "code",
   "execution_count": 11,
   "id": "499a86f7",
   "metadata": {},
   "outputs": [],
   "source": [
    "# Calculate the cumulative distribution function (CDF)\n",
    "def cumulative_distribution_function(lottery):\n",
    "    lottery_sorted = sorted(lottery, key=lambda x: x[0])\n",
    "    values, probabilities = zip(*lottery_sorted)\n",
    "    cdf = np.cumsum(probabilities)\n",
    "    return values, cdf"
   ]
  },
  {
   "cell_type": "code",
   "execution_count": 12,
   "id": "da9a126d",
   "metadata": {},
   "outputs": [],
   "source": [
    "def stochastic_dominance(lottery1, lottery2):\n",
    "    \n",
    "    try:\n",
    "        l1 = Loterie(lottery1)\n",
    "        print(\"Loterie créée avec succées.\")\n",
    "    except ValueError as e:\n",
    "        print(f\"Erreur (probabilités) : {e}\")\n",
    "        \n",
    "    try:\n",
    "        l2 = Loterie(lottery2)\n",
    "        print(\"Loterie créée avec succées.\")\n",
    "    except ValueError as e:\n",
    "        print(f\"Erreur (probabilités) : {e}\")\n",
    "    \n",
    "    values1, cdf1 = cumulative_distribution_function(lottery1)\n",
    "    values2, cdf2 = cumulative_distribution_function(lottery2)\n",
    "    \n",
    "    # Get all unique values from both lotteries\n",
    "    all_values = np.unique(np.concatenate([values1, values2]))\n",
    "    \n",
    "    # Interpolating CDFs to have values at the same points\n",
    "    cdf1_interp = np.interp(all_values, values1, cdf1, left=0, right=1)\n",
    "    cdf2_interp = np.interp(all_values, values2, cdf2, left=0, right=1)\n",
    "    \n",
    "    # Check for stochastic dominance\n",
    "    if np.all(cdf1_interp <= cdf2_interp):\n",
    "        return True\n",
    "    return False"
   ]
  },
  {
   "cell_type": "markdown",
   "id": "a61a4359",
   "metadata": {},
   "source": [
    "#### Fonction cumulative_distribution_function\n",
    "##### Description :\n",
    "Cette fonction calcule la fonction de distribution cumulée (FDC) pour une loterie donnée sous la forme {[𝑥1,𝑝1],…,[𝑥𝑛,𝑝𝑛]}, où 𝑥𝑖 sont les résultats et 𝑝𝑖 sont les probabilités correspondantes.\n",
    "##### Arguments :\n",
    "- lottery (list of lists) : Une loterie sous la forme {[𝑥1,𝑝1],…,[𝑥𝑛,𝑝𝑛]}, où 𝑥𝑖 sont les résultats et 𝑝𝑖 sont les probabilités.\n",
    "###### Renvoie : \n",
    "- tuple : Deux listes, l'une pour les résultats triés et l'autre pour les probabilités cumulées.\n",
    "\n",
    "#### Fonction stochastic_dominance\n",
    "##### Description :\n",
    "Cette fonction vérifie si lottery1 domine stochastiquement lottery2.\n",
    "##### Arguments :\n",
    "- lottery1 (list of lists) : Une loterie sous la forme {[𝑥1,𝑝1],…,[𝑥𝑛,𝑝𝑛]}, où 𝑥𝑖 sont les résultats et 𝑝𝑖 sont les probabilités.\n",
    "- lottery2(list of lists) : Une loterie sous la forme {[𝑥1,𝑝1],…,[𝑥𝑛,𝑝𝑛]}, où 𝑥𝑖 sont les résultats et 𝑝𝑖 sont les probabilités.\n",
    "##### Renvoie :\n",
    "- bool : True si lottery1 domine stochastiquement lottery2, False sinon."
   ]
  },
  {
   "cell_type": "markdown",
   "id": "e5b94864",
   "metadata": {},
   "source": [
    "##### Exemple pour la dominance stochastique"
   ]
  },
  {
   "cell_type": "code",
   "execution_count": 13,
   "id": "f08af4f2",
   "metadata": {},
   "outputs": [
    {
     "name": "stdout",
     "output_type": "stream",
     "text": [
      "Loterie créée avec succées.\n",
      "Loterie créée avec succées.\n",
      "Lottery 1 does not stochastically dominate Lottery 2\n"
     ]
    }
   ],
   "source": [
    "# Example:\n",
    "\n",
    "lottery1 = [[1, 0.2], [2, 0.2], [3, 0.2], [4, 0.2], [5, 0.2]]\n",
    "lottery2 = [[2, 0.2], [3, 0.2], [4, 0.2], [5, 0.2], [6, 0.2]]\n",
    "\n",
    "if stochastic_dominance(lottery1, lottery2):\n",
    "    print(\"Lottery 1 stochastically dominates Lottery 2\")\n",
    "else:\n",
    "    print(\"Lottery 1 does not stochastically dominate Lottery 2\")"
   ]
  },
  {
   "cell_type": "markdown",
   "id": "ae4e5740",
   "metadata": {},
   "source": [
    "### Minimisation du reget avec I-splines en utilisant MIP"
   ]
  },
  {
   "cell_type": "markdown",
   "id": "30fe5f18",
   "metadata": {},
   "source": [
    "#### Définir la fonction M_splines : \n",
    "* M-splines : Les M-splines sont des fonctions polynomiales par morceaux qui servent de base pour créer des courbes complexes en les combinant linéairement. Ces splines sont définies par des segments sur un intervalle donné et sont utiles pour approcher des formes complexes dans les régressions non linéaires. Chaque M-spline est nulle en dehors de son intervalle défini, ce qui les rend localisées et faciles à manipuler. "
   ]
  },
  {
   "cell_type": "code",
   "execution_count": 14,
   "id": "98966fc4",
   "metadata": {},
   "outputs": [],
   "source": [
    "# Definition of the M-spline function based on recursive construction\n",
    "def M_spline(x, i, k, t):\n",
    "    if k == 1:\n",
    "        # Base case: M-spline of order 1\n",
    "        if t[i] <= x < t[i + 1]:\n",
    "            return 1 / (t[i + 1] - t[i])\n",
    "        else:\n",
    "            return 0\n",
    "    else:\n",
    "        # Recursive calculation of M-spline of order k\n",
    "        res1 = (x - t[i]) / (t[i + k] - t[i]) * M_spline(x, i, k - 1, t) if t[i + k] > t[i] else 0\n",
    "        res2 = (t[i + k] - x) / (t[i + k] - t[i]) * M_spline(x, i + 1, k - 1, t) if t[i + k] > t[i] else 0\n",
    "        return k * (res1 + res2) / (k - 1)"
   ]
  },
  {
   "cell_type": "markdown",
   "id": "34aed812",
   "metadata": {},
   "source": [
    "#### m_spline(x, k, t, i):\n",
    "\n",
    "##### Description : \n",
    "- Calcul de la valeur de la M-spline d'ordre k au point x.\n",
    "##### Arguments :\n",
    "- x (float) : Le point auquel évaluer la M-spline.\n",
    "- k (int) : L'ordre de la M-spline.\n",
    "- t (list of float) : La liste des noeuds (knots).\n",
    "- i (int) : L'index du noeud pour cette M-spline.\n",
    "##### Retour : \n",
    "- La valeur de la M-spline au point x."
   ]
  },
  {
   "cell_type": "markdown",
   "id": "6ea1bebd",
   "metadata": {},
   "source": [
    "#### Définir la fonction I_splines :\n",
    "*  Les I-splines sont des fonctions dérivées des M-splines. Elles sont obtenues en intégrant les M-splines, ce qui garantit que les I-splines sont non décroissantes. Cette propriété est cruciale lorsqu'on veut modéliser des fonctions qui doivent toujours augmenter ou rester constantes, comme les fonctions de pondération des probabilités utilisées dans la théorie des décisions sous risque."
   ]
  },
  {
   "cell_type": "code",
   "execution_count": 15,
   "id": "12415e86",
   "metadata": {},
   "outputs": [],
   "source": [
    "def I_spline(x, i, k, t):\n",
    "    j = 0\n",
    "    for l in range(len(t)-1):\n",
    "        if t[l]<= x and x < t[l+1]:\n",
    "            j = l\n",
    "            break;\n",
    "    if i < j-k+1:\n",
    "        return 1\n",
    "    elif i>j:\n",
    "        return 0\n",
    "    else: \n",
    "        somme = 0\n",
    "        for s in range(i,j+1):\n",
    "            somme += (t[s+k+1]-t[s])*M_spline(x, s, k+1, t)\n",
    "        return somme / (k+1) "
   ]
  },
  {
   "cell_type": "markdown",
   "id": "a385f4b0",
   "metadata": {},
   "source": [
    "#### i_spline(x, k, t, i):\n",
    "##### Description : \n",
    "- Calcul de la valeur de la I-spline d'ordre k au point x.\n",
    "##### Arguments :\n",
    "- x (float) : Le point auquel évaluer la I-spline.\n",
    "- k (int) : L'ordre de la I-spline.\n",
    "- t (list of float) : La liste des noeuds (knots).\n",
    "- i (int) : L'index du noeud pour cette I-spline.\n",
    "##### Retour : \n",
    "- La valeur de la I-spline au point x"
   ]
  },
  {
   "cell_type": "markdown",
   "id": "fc6a5f60",
   "metadata": {},
   "source": [
    "#### Pourquoi utiliser les M-splines et I-splines ? \n",
    "* Les M-splines permettent de construire des fonctions qui ont des variations locales contrôlées, tandis que les I-splines sont utilisées lorsqu'il est nécessaire de créer des fonctions monotones (toujours croissantes). Dans le contexte de la théorie des décisions, les I-splines modélisent des comportements de pondération de probabilité qui reflètent l'attitude face au risque."
   ]
  },
  {
   "cell_type": "markdown",
   "id": "0608454f",
   "metadata": {},
   "source": [
    "##### Exemple de plot des M_splines et I_splines"
   ]
  },
  {
   "cell_type": "code",
   "execution_count": 16,
   "id": "70f960d4",
   "metadata": {},
   "outputs": [],
   "source": [
    "# Knot sequence as described in the document for order 3 splines\n",
    "t = [0, 0, 0, 0, 1/3, 2/3, 1, 1, 1, 1]\n",
    "x_vals = np.linspace(0, 1, 500)\n",
    "\n",
    "# Calculating M-splines and I-splines for each index i\n",
    "M_splines = [np.array([M_spline(x, i, 3, t) for x in x_vals]) for i in range(1, len(t) - 3)]\n",
    "I_splines = [np.array([I_spline(x, i, 3, t) for x in x_vals]) for i in range(1, len(t) - 3)]"
   ]
  },
  {
   "cell_type": "code",
   "execution_count": 17,
   "id": "8a7161dc",
   "metadata": {},
   "outputs": [
    {
     "data": {
      "text/plain": [
       "<matplotlib.legend.Legend at 0x12bd85d90>"
      ]
     },
     "execution_count": 17,
     "metadata": {},
     "output_type": "execute_result"
    },
    {
     "data": {
      "image/png": "[encoded data removed]",
      "text/plain": [
       "<Figure size 1400x600 with 1 Axes>"
      ]
     },
     "metadata": {},
     "output_type": "display_data"
    }
   ],
   "source": [
    "# Plotting M-splines\n",
    "plt.figure(figsize=(14, 6))\n",
    "plt.subplot(1, 2, 1)\n",
    "for i, M in enumerate(M_splines):\n",
    "    plt.plot(x_vals, M, label=f'M{i+1}(x; 3, t)')\n",
    "plt.title('M-spline Basis Functions')\n",
    "plt.xlabel('x')\n",
    "plt.ylabel('M-spline Value')\n",
    "plt.grid(True)\n",
    "plt.legend()"
   ]
  },
  {
   "cell_type": "markdown",
   "id": "4b85d00a",
   "metadata": {},
   "source": [
    "* Les M-splines sont calculées à l'aide d'une formule récursive qui commence par des splines d'ordre 1 (simples segments) et les combine pour créer des splines d'ordre supérieur. Chaque M-spline est définie sur un intervalle limité par les nœuds de la séquence t.\n",
    "* Le graphe ci-dessous montre les M-splines de différentes positions (i) sur la séquence de nœuds. Elles sont localisées et leur hauteur et largeur varient en fonction de leur position."
   ]
  },
  {
   "cell_type": "code",
   "execution_count": 18,
   "id": "aff6e9e2",
   "metadata": {
    "scrolled": false
   },
   "outputs": [
    {
     "data": {
      "image/png": "[encoded data removed]",
      "text/plain": [
       "<Figure size 640x480 with 1 Axes>"
      ]
     },
     "metadata": {},
     "output_type": "display_data"
    }
   ],
   "source": [
    "# Plotting I-splines\n",
    "plt.subplot(1, 2, 2)\n",
    "for i, I in enumerate(I_splines):\n",
    "    plt.plot(x_vals, I, label=f'I{i+1}(x; 3, t)')\n",
    "plt.title('I-spline Basis Functions')\n",
    "plt.xlabel('x')\n",
    "plt.ylabel('I-spline Value')\n",
    "plt.grid(True)\n",
    "plt.legend()\n",
    "\n",
    "plt.tight_layout()\n",
    "plt.show()"
   ]
  },
  {
   "cell_type": "markdown",
   "id": "d2a4896e",
   "metadata": {},
   "source": [
    "* Les I-splines sont obtenues en intégrant les M-splines, ce qui garantit qu'elles sont toujours croissantes ou constantes. Cela les rend particulièrement utiles pour modéliser des fonctions de pondération des probabilités, qui doivent refléter un comportement cohérent et non décroissant face au risque.\n",
    "* Le graphe ci-dessous montre les I-splines qui démarrent à zéro, augmentent progressivement et atteignent un maximum de 1. Chaque I-spline commence à zéro, augmente en fonction de la somme des contributions des M-splines sous-jacentes, et reste monotone croissante."
   ]
  },
  {
   "cell_type": "markdown",
   "metadata": {},
   "source": [
    "#### Calculer le vecteur v pour chaque loterie"
   ]
  },
  {
   "cell_type": "code",
   "execution_count": 28,
   "metadata": {},
   "outputs": [],
   "source": [
    "def v(lottery,k,t,I_spline_functions,u):\n",
    "    l = lottery.loterie\n",
    "    n = len(l)\n",
    "    m = len(I_spline_functions)\n",
    "    \n",
    "    v = np.zeros(m) #initialisation du vecteur v \n",
    "    \n",
    "    #extract prob and outcomes from lottery\n",
    "    prob = [p[1] for p in l]\n",
    "    outcomes = [p[0] for p in l]\n",
    "    \n",
    "    #calculer les probabilités cumulées\n",
    "    cum_prob = np.cumsum(prob)\n",
    "    \n",
    "    for j in range(m):\n",
    "        for i in range (n-1):\n",
    "            v[j] += I_spline_functions[j](cum_prob[i])*(u(outcomes[i]) - u(outcomes[i+1]))\n",
    "        v[j] += I_spline_functions[j](cum_prob[-1])*(u(outcomes[-1]))\n",
    "        \n",
    "    return v"
   ]
  },
  {
   "cell_type": "markdown",
   "metadata": {},
   "source": [
    "Cette fonction permet le calcul le vecteur v pour une loterie donnée en utilisant des fonctions I-splines et une fonction d'utilité.\n",
    "\n",
    "La fonction calcule un vecteur `v` de taille `m`, où `m` est le nombre de fonctions I-splines fournies. \n",
    "Le vecteur `v` est calculé en prenant en compte les probabilités cumulées des issues de la loterie et les différences d'utilité entre les issues adjacentes.\n",
    "\n",
    "##### Arguments:\n",
    "   - lottery (list of tuples): Une liste de tuples représentant les lots de la loterie. Chaque tuple contient deux éléments :\n",
    "   - outcome (float): Le résultat de la loterie.\n",
    "   - prob (float): La probabilité associée à ce résultat.\n",
    "   - k (float): Paramètre pour la fonction I-spline (peut être utilisé pour le calcul des splines).\n",
    "   - t (float): Paramètre pour la fonction I-spline (peut être utilisé pour le calcul des splines).\n",
    "   - u (function): Fonction d'utilité qui prend en entrée un résultat de la loterie et renvoie une valeur d'utilité.\n",
    "   - I_spline_functions (list of functions): Liste de fonctions I-splines. Chaque fonction prend deux arguments (probabilité cumulée, index de la fonction) et renvoie un poids pour le calcul.\n",
    "\n",
    "##### Retourne:\n",
    "   - numpy.ndarray: Un vecteur `v` de taille `m`, où chaque élément correspond au résultat du calcul pour chaque fonction I-spline."
   ]
  },
  {
   "cell_type": "markdown",
   "id": "81a09a79",
   "metadata": {},
   "source": [
    "##### Comparaison entre la valeur d'une loterie en utilisant le modèle d'Utilité Dépendante du Rang (RDU) et la méthode basée sur les I-splines"
   ]
  },
  {
   "cell_type": "markdown",
   "id": "04fda1cc",
   "metadata": {},
   "source": [
    "* Définir la Loterie : La loterie est définie par une liste de paires [𝑥𝑖,𝑝𝑖], où 𝑥𝑖 représente un gain et 𝑝𝑖 sa probabilité associée.\n",
    "* Calculer la Valeur RDU : Utiliser le modèle RDU qui combine une fonction de pondération des probabilités 𝑤 et une fonction d'utilité 𝑢. La valeur RDU reflète comment un décideur perçoit les probabilités et les gains.\n",
    "* Calculer la Valeur en Utilisant les I-splines : Ici, on utilise les I-splines pour approximer la fonction de pondération 𝑤. Les I-splines sont des fonctions croissantes obtenues à partir des M-splines, et elles permettent de modéliser des pondérations plus complexes et réalistes.\n",
    "* Comparer les Résultats : Calculer et comparer les valeurs obtenues par les deux méthodes pour montrer leurs différences."
   ]
  },
  {
   "cell_type": "code",
   "execution_count": 20,
   "id": "2c4edfa7",
   "metadata": {},
   "outputs": [],
   "source": [
    "# Définir la loterie comme une liste de paires [gain, probabilité]\n",
    "loterie = [[10, 0.4], [20, 0.3], [30, 0.3]]\n",
    "l = Loterie(loterie)\n",
    "\n",
    "# Définir la fonction d'utilité, par exemple u(x) = sqrt(x)\n",
    "def u(x):\n",
    "    return np.sqrt(x)\n",
    "\n",
    "# Séquence des nœuds pour les I-splines d'ordre 3\n",
    "t = [0, 0, 0, 0, 0.25, 0.5, 0.75, 1, 1, 1, 1]"
   ]
  },
  {
   "cell_type": "code",
   "execution_count": 21,
   "id": "a7bbe56e",
   "metadata": {},
   "outputs": [],
   "source": [
    "# Générer les I-splines en fonction des nœuds et de l'ordre des splines\n",
    "I_splines = [lambda x: I_spline(x, i, 3, t) for i in range(1, len(t) - 3)]\n",
    "\n",
    "# Ajuster les poids pour correspondre à une pondération linéaire\n",
    "poids = [1/len(I_splines)] * len(I_splines)  # Poids équilibrés pour une somme proche de 1"
   ]
  },
  {
   "cell_type": "code",
   "execution_count": 22,
   "id": "2f06c915",
   "metadata": {},
   "outputs": [],
   "source": [
    "# Définir la fonction de pondération w comme une somme pondérée des I-splines\n",
    "def w_I_splines(x, poid, I_sp):\n",
    "    return sum(p*sp(x) for p,sp in zip(poids,I_sp))"
   ]
  },
  {
   "cell_type": "code",
   "execution_count": 23,
   "id": "68af3d70",
   "metadata": {},
   "outputs": [
    {
     "name": "stdout",
     "output_type": "stream",
     "text": [
      "Valeur RDU de la loterie (Traditionnel) : 0.0\n",
      "Valeur de la loterie utilisant les I-splines : 0.0\n",
      "Différence entre la méthode I-spline et la RDU traditionnelle : 0.0\n"
     ]
    }
   ],
   "source": [
    "# Calculer la valeur en utilisant le modèle RDU traditionnel\n",
    "valeur_RDU = V(l, lambda x: w_I_splines(x, poid=poids,I_sp=I_splines), u)\n",
    "print(f\"Valeur RDU de la loterie (Traditionnel) : {valeur_RDU}\")\n",
    "\n",
    "# Calculer la valeur en utilisant les I-splines pour la pondération\n",
    "vec = v(l,k,t,I_splines,u)\n",
    "valeur_I_splines = np.dot(vec,poids)\n",
    "print(f\"Valeur de la loterie utilisant les I-splines : {valeur_I_splines}\")\n",
    "\n",
    "# Comparaison des résultats\n",
    "difference = valeur_I_splines - valeur_RDU\n",
    "print(f\"Différence entre la méthode I-spline et la RDU traditionnelle : {difference}\")"
   ]
  },
  {
   "cell_type": "markdown",
   "id": "a0c7d728",
   "metadata": {},
   "source": [
    "Fonction de Pondération :\n",
    "\n",
    "* Pour la méthode RDU traditionnelle, nous utilisons une fonction simple de pondération w(x)=x, sans distorsion des probabilités, ce qui signifie que le décideur traite les probabilités de manière objective.\n",
    "* Pour la méthode basée sur les I-splines, 𝑤(𝑥) est calculée comme une somme pondérée des I-splines, qui permet d'approximer une distorsion plus réaliste et complexe des probabilités, souvent observée chez les décideurs.\n",
    "\n",
    "Calcul des Valeurs RDU :\n",
    "\n",
    "* La fonction calculer_V calcule la valeur de la loterie en utilisant la méthode RDU. Elle utilise les probabilités cumulées des résultats de la loterie et applique la fonction de pondération aux différences d'utilité entre les résultats successifs.\n",
    "\n",
    "Comparaison des Résultats :\n",
    "\n",
    "* Le code affiche la valeur de la loterie calculée par les deux méthodes et la différence entre elles. Cela permet de voir comment l'utilisation des I-splines modifie la perception de la valeur de la loterie par rapport à une évaluation traditionnelle."
   ]
  },
  {
   "cell_type": "markdown",
   "id": "db99c175",
   "metadata": {},
   "source": [
    "##### Interprétation des Résultats :\n",
    "* Valeur RDU : Montre comment un décideur évaluerait la loterie en utilisant une pondération linéaire des probabilités, sans distorsion.\n",
    "* Valeur I-splines : Reflète une évaluation qui tient compte de la distorsion des probabilités via les I-splines, qui peuvent modéliser des comportements plus réalistes face au risque.\n",
    "* Différence : Indique l'effet de l'utilisation des I-splines sur l'évaluation de la loterie, montrant comment la perception du risque et des probabilités change avec une pondération plus complexe. \n",
    "La différence négative indique que la valeur de la loterie est perçue comme moins favorable lorsque les probabilités sont pondérées par les I-splines comparativement à une pondération linéaire (sans distorsion).\n",
    "Cette diminution reflète un comportement décisionnel où le décideur pourrait être plus prudent ou pessimiste en raison de la distorsion des probabilités introduite par les I-splines.\n",
    "\n",
    "* Perception du Risque : La méthode basée sur les I-splines suggère que le décideur évalue les probabilités de manière non linéaire, ce qui correspond souvent à des attitudes face au risque. Par exemple, il est courant que les décideurs surestiment les petites probabilités de gains (optimisme) et sous-estiment les grandes probabilités (pessimisme), ce qui peut diminuer la valeur perçue d'une loterie.\n",
    "\n",
    "* Impact des Pondérations : Dans le modèle RDU traditionnel, les probabilités sont traitées de manière objective, sans altération, tandis que les I-splines modifient cette perception. Cela entraîne une réévaluation des chances de gains, souvent conduisant à une réduction de la valeur totale de la loterie lorsque la distorsion pénalise les gains."
   ]
  },
  {
   "cell_type": "markdown",
   "id": "5f500152",
   "metadata": {},
   "source": [
    "### Probléme d'optimisation"
   ]
  },
  {
   "cell_type": "markdown",
   "id": "66c4a6bb",
   "metadata": {},
   "source": [
    "Résoudre le problème de minimisation du regret avec les I-splines en utilisant la bibliothèque mip."
   ]
  },
  {
   "cell_type": "code",
   "execution_count": 29,
   "id": "2407c3ad",
   "metadata": {},
   "outputs": [],
   "source": [
    "def solve_regret_minimization(lotteries, k, t, I_spline_functions, u):\n",
    "\n",
    "    # Calculer les v-composantes pour chaque loterie\n",
    "    v_components_list = [v(lottery, k, t, I_spline_functions, u) for lottery in lotteries]\n",
    "\n",
    "    # Créer un nouveau modèle MIP (Programmation Linéaire Mixte)\n",
    "    model = Model(sense=maximize, solver_name='CBC')\n",
    "\n",
    "    # Définir les variables (vecteur de lambdas)\n",
    "    m = len(I_spline_functions)\n",
    "    lambda_vars = [model.add_var(var_type='C', lb=0) for _ in range(m)]\n",
    "\n",
    "    # Définir la fonction objectif\n",
    "    objective_terms = []\n",
    "    for i in range(len(lotteries)):\n",
    "        for j in range(i + 1, len(lotteries)):\n",
    "            # Calculer la différence des v-composantes entre deux loteries\n",
    "            v_diff = np.array(v_components_list[j]) - np.array(v_components_list[i])\n",
    "            # Ajouter la somme pondérée des lambdas à la fonction objectif\n",
    "            objective_terms.append(xsum(lambda_vars[l] * v_diff[l] for l in range(m)))\n",
    "\n",
    "    # Maximiser la somme des termes objectifs\n",
    "    model.objective = xsum(objective_terms)\n",
    "\n",
    "    # Ajouter les contraintes pour que la somme pondérée soit non-négative pour chaque paire de loteries\n",
    "    for i in range(len(lotteries)):\n",
    "        for j in range(i + 1, len(lotteries)):\n",
    "            v_plus = v_components_list[i]\n",
    "            v_minus = v_components_list[j]\n",
    "            model += xsum(lambda_vars[l] * (v_plus[l] - v_minus[l]) for l in range(m)) >= 0\n",
    "\n",
    "    # Résoudre le modèle\n",
    "    model.optimize()\n",
    "\n",
    "    # Extraire les valeurs optimales de lambda et la valeur optimale de la fonction objectif\n",
    "    lambda_values = [lambda_vars[j].x for j in range(m)]\n",
    "    optimal_value = model.objective_value\n",
    "\n",
    "    return lambda_values, optimal_value"
   ]
  },
  {
   "cell_type": "markdown",
   "id": "26b05d10",
   "metadata": {},
   "source": [
    "##### Paramètres :\n",
    "* lotteries (liste de listes) : Une liste de loteries, où chaque loterie est représentée par une liste de tuples (résultat, probabilité).\n",
    "* k (int) : Le degré des I-splines.\n",
    "* t (liste de flottants) : Le vecteur de nœuds pour les I-splines.\n",
    "* I_spline_functions (liste de fonctions) : Une liste de fonctions I-splines.\n",
    "* utility (fonction) : Une fonction d’utilité qui prend un résultat en entrée et renvoie son utilité.\n",
    "\n",
    "##### Étapes :\n",
    "* Calculer les v-composantes pour chaque loterie.\n",
    "* Configurer un nouveau modèle MIP en utilisant la bibliothèque mip.\n",
    "* Définir les variables lambda.\n",
    "* Construire la fonction objectif pour maximiser la somme pondérée des différences dans les v-composantes pour tous les paires de loteries.\n",
    "* Ajouter des contraintes pour s’assurer que la somme pondérée des différences dans les v-composantes est non négative pour chaque paire de loteries.\n",
    "* Résoudre le modèle.\n",
    "* Extraire les valeurs optimales de lambda et la valeur optimale de la fonction objectif.\n",
    "\n",
    "##### Retourne :\n",
    "* un tuple contenant :\n",
    "* une liste des valeurs optimales de lambda.\n",
    "* un flottant : la valeur optimale de la fonction objectif."
   ]
  },
  {
   "cell_type": "markdown",
   "id": "b7d98085",
   "metadata": {},
   "source": [
    "#### Exemple pour ce probléme d'optimisation"
   ]
  },
  {
   "cell_type": "code",
   "execution_count": 30,
   "id": "1a6699bb",
   "metadata": {
    "scrolled": true
   },
   "outputs": [
    {
     "ename": "IndexError",
     "evalue": "list index out of range",
     "output_type": "error",
     "traceback": [
      "\u001b[0;31m---------------------------------------------------------------------------\u001b[0m",
      "\u001b[0;31mIndexError\u001b[0m                                Traceback (most recent call last)",
      "\u001b[1;32m/Users/hedibelkadhi/Regret-Based-Elicitation-1/Regret_based_elicitation of w.ipynb Cell 54\u001b[0m line \u001b[0;36m1\n\u001b[1;32m      <a href='vscode-notebook-cell:/Users/hedibelkadhi/Regret-Based-Elicitation-1/Regret_based_elicitation%20of%20w.ipynb#Y104sZmlsZQ%3D%3D?line=8'>9</a>\u001b[0m I_spline_functions \u001b[39m=\u001b[39m [\u001b[39mlambda\u001b[39;00m p, j\u001b[39m=\u001b[39mj, k\u001b[39m=\u001b[39mk, t\u001b[39m=\u001b[39mt: I_spline_function(p, j, k, t) \u001b[39mfor\u001b[39;00m j \u001b[39min\u001b[39;00m \u001b[39mrange\u001b[39m(\u001b[39m5\u001b[39m)]  \u001b[39m# Example I-spline functions\u001b[39;00m\n\u001b[1;32m     <a href='vscode-notebook-cell:/Users/hedibelkadhi/Regret-Based-Elicitation-1/Regret_based_elicitation%20of%20w.ipynb#Y104sZmlsZQ%3D%3D?line=9'>10</a>\u001b[0m utility_function \u001b[39m=\u001b[39m \u001b[39mlambda\u001b[39;00m x: x  \u001b[39m# Example utility function (linear)\u001b[39;00m\n\u001b[0;32m---> <a href='vscode-notebook-cell:/Users/hedibelkadhi/Regret-Based-Elicitation-1/Regret_based_elicitation%20of%20w.ipynb#Y104sZmlsZQ%3D%3D?line=11'>12</a>\u001b[0m lambda_values, optimal_value \u001b[39m=\u001b[39m solve_regret_minimization(lotteries, k, t, I_spline_functions, utility_function)\n\u001b[1;32m     <a href='vscode-notebook-cell:/Users/hedibelkadhi/Regret-Based-Elicitation-1/Regret_based_elicitation%20of%20w.ipynb#Y104sZmlsZQ%3D%3D?line=12'>13</a>\u001b[0m \u001b[39mprint\u001b[39m(\u001b[39m\"\u001b[39m\u001b[39mOptimal lambda values:\u001b[39m\u001b[39m\"\u001b[39m, lambda_values)\n\u001b[1;32m     <a href='vscode-notebook-cell:/Users/hedibelkadhi/Regret-Based-Elicitation-1/Regret_based_elicitation%20of%20w.ipynb#Y104sZmlsZQ%3D%3D?line=13'>14</a>\u001b[0m \u001b[39mprint\u001b[39m(\u001b[39m\"\u001b[39m\u001b[39mOptimal objective value (max regret):\u001b[39m\u001b[39m\"\u001b[39m, optimal_value)\n",
      "\u001b[1;32m/Users/hedibelkadhi/Regret-Based-Elicitation-1/Regret_based_elicitation of w.ipynb Cell 54\u001b[0m line \u001b[0;36m4\n\u001b[1;32m      <a href='vscode-notebook-cell:/Users/hedibelkadhi/Regret-Based-Elicitation-1/Regret_based_elicitation%20of%20w.ipynb#Y104sZmlsZQ%3D%3D?line=0'>1</a>\u001b[0m \u001b[39mdef\u001b[39;00m \u001b[39msolve_regret_minimization\u001b[39m(lotteries, k, t, I_spline_functions, u):\n\u001b[1;32m      <a href='vscode-notebook-cell:/Users/hedibelkadhi/Regret-Based-Elicitation-1/Regret_based_elicitation%20of%20w.ipynb#Y104sZmlsZQ%3D%3D?line=1'>2</a>\u001b[0m \n\u001b[1;32m      <a href='vscode-notebook-cell:/Users/hedibelkadhi/Regret-Based-Elicitation-1/Regret_based_elicitation%20of%20w.ipynb#Y104sZmlsZQ%3D%3D?line=2'>3</a>\u001b[0m     \u001b[39m# Calculer les v-composantes pour chaque loterie\u001b[39;00m\n\u001b[0;32m----> <a href='vscode-notebook-cell:/Users/hedibelkadhi/Regret-Based-Elicitation-1/Regret_based_elicitation%20of%20w.ipynb#Y104sZmlsZQ%3D%3D?line=3'>4</a>\u001b[0m     v_components_list \u001b[39m=\u001b[39m [v(lottery, k, t, I_spline_functions, u) \u001b[39mfor\u001b[39;49;00m lottery \u001b[39min\u001b[39;49;00m lotteries]\n\u001b[1;32m      <a href='vscode-notebook-cell:/Users/hedibelkadhi/Regret-Based-Elicitation-1/Regret_based_elicitation%20of%20w.ipynb#Y104sZmlsZQ%3D%3D?line=5'>6</a>\u001b[0m     \u001b[39m# Créer un nouveau modèle MIP (Programmation Linéaire Mixte)\u001b[39;00m\n\u001b[1;32m      <a href='vscode-notebook-cell:/Users/hedibelkadhi/Regret-Based-Elicitation-1/Regret_based_elicitation%20of%20w.ipynb#Y104sZmlsZQ%3D%3D?line=6'>7</a>\u001b[0m     model \u001b[39m=\u001b[39m Model(sense\u001b[39m=\u001b[39mmaximize, solver_name\u001b[39m=\u001b[39m\u001b[39m'\u001b[39m\u001b[39mCBC\u001b[39m\u001b[39m'\u001b[39m)\n",
      "\u001b[1;32m/Users/hedibelkadhi/Regret-Based-Elicitation-1/Regret_based_elicitation of w.ipynb Cell 54\u001b[0m line \u001b[0;36m4\n\u001b[1;32m      <a href='vscode-notebook-cell:/Users/hedibelkadhi/Regret-Based-Elicitation-1/Regret_based_elicitation%20of%20w.ipynb#Y104sZmlsZQ%3D%3D?line=0'>1</a>\u001b[0m \u001b[39mdef\u001b[39;00m \u001b[39msolve_regret_minimization\u001b[39m(lotteries, k, t, I_spline_functions, u):\n\u001b[1;32m      <a href='vscode-notebook-cell:/Users/hedibelkadhi/Regret-Based-Elicitation-1/Regret_based_elicitation%20of%20w.ipynb#Y104sZmlsZQ%3D%3D?line=1'>2</a>\u001b[0m \n\u001b[1;32m      <a href='vscode-notebook-cell:/Users/hedibelkadhi/Regret-Based-Elicitation-1/Regret_based_elicitation%20of%20w.ipynb#Y104sZmlsZQ%3D%3D?line=2'>3</a>\u001b[0m     \u001b[39m# Calculer les v-composantes pour chaque loterie\u001b[39;00m\n\u001b[0;32m----> <a href='vscode-notebook-cell:/Users/hedibelkadhi/Regret-Based-Elicitation-1/Regret_based_elicitation%20of%20w.ipynb#Y104sZmlsZQ%3D%3D?line=3'>4</a>\u001b[0m     v_components_list \u001b[39m=\u001b[39m [v(lottery, k, t, I_spline_functions, u) \u001b[39mfor\u001b[39;00m lottery \u001b[39min\u001b[39;00m lotteries]\n\u001b[1;32m      <a href='vscode-notebook-cell:/Users/hedibelkadhi/Regret-Based-Elicitation-1/Regret_based_elicitation%20of%20w.ipynb#Y104sZmlsZQ%3D%3D?line=5'>6</a>\u001b[0m     \u001b[39m# Créer un nouveau modèle MIP (Programmation Linéaire Mixte)\u001b[39;00m\n\u001b[1;32m      <a href='vscode-notebook-cell:/Users/hedibelkadhi/Regret-Based-Elicitation-1/Regret_based_elicitation%20of%20w.ipynb#Y104sZmlsZQ%3D%3D?line=6'>7</a>\u001b[0m     model \u001b[39m=\u001b[39m Model(sense\u001b[39m=\u001b[39mmaximize, solver_name\u001b[39m=\u001b[39m\u001b[39m'\u001b[39m\u001b[39mCBC\u001b[39m\u001b[39m'\u001b[39m)\n",
      "\u001b[1;32m/Users/hedibelkadhi/Regret-Based-Elicitation-1/Regret_based_elicitation of w.ipynb Cell 54\u001b[0m line \u001b[0;36m1\n\u001b[1;32m     <a href='vscode-notebook-cell:/Users/hedibelkadhi/Regret-Based-Elicitation-1/Regret_based_elicitation%20of%20w.ipynb#Y104sZmlsZQ%3D%3D?line=13'>14</a>\u001b[0m \u001b[39mfor\u001b[39;00m j \u001b[39min\u001b[39;00m \u001b[39mrange\u001b[39m(m):\n\u001b[1;32m     <a href='vscode-notebook-cell:/Users/hedibelkadhi/Regret-Based-Elicitation-1/Regret_based_elicitation%20of%20w.ipynb#Y104sZmlsZQ%3D%3D?line=14'>15</a>\u001b[0m     \u001b[39mfor\u001b[39;00m i \u001b[39min\u001b[39;00m \u001b[39mrange\u001b[39m (n\u001b[39m-\u001b[39m\u001b[39m1\u001b[39m):\n\u001b[0;32m---> <a href='vscode-notebook-cell:/Users/hedibelkadhi/Regret-Based-Elicitation-1/Regret_based_elicitation%20of%20w.ipynb#Y104sZmlsZQ%3D%3D?line=15'>16</a>\u001b[0m         v[j] \u001b[39m+\u001b[39m\u001b[39m=\u001b[39m I_spline_functions[j](cum_prob[i],j,k,t)\u001b[39m*\u001b[39m(u(outcomes[i]) \u001b[39m-\u001b[39m u(outcomes[i\u001b[39m+\u001b[39m\u001b[39m1\u001b[39m]))\n\u001b[1;32m     <a href='vscode-notebook-cell:/Users/hedibelkadhi/Regret-Based-Elicitation-1/Regret_based_elicitation%20of%20w.ipynb#Y104sZmlsZQ%3D%3D?line=16'>17</a>\u001b[0m \u001b[39mreturn\u001b[39;00m v\n",
      "\u001b[1;32m/Users/hedibelkadhi/Regret-Based-Elicitation-1/Regret_based_elicitation of w.ipynb Cell 54\u001b[0m line \u001b[0;36m9\n\u001b[1;32m      <a href='vscode-notebook-cell:/Users/hedibelkadhi/Regret-Based-Elicitation-1/Regret_based_elicitation%20of%20w.ipynb#Y104sZmlsZQ%3D%3D?line=6'>7</a>\u001b[0m k \u001b[39m=\u001b[39m \u001b[39m3\u001b[39m\n\u001b[1;32m      <a href='vscode-notebook-cell:/Users/hedibelkadhi/Regret-Based-Elicitation-1/Regret_based_elicitation%20of%20w.ipynb#Y104sZmlsZQ%3D%3D?line=7'>8</a>\u001b[0m t \u001b[39m=\u001b[39m [\u001b[39m0\u001b[39m, \u001b[39m0\u001b[39m, \u001b[39m0\u001b[39m, \u001b[39m1\u001b[39m\u001b[39m/\u001b[39m\u001b[39m3\u001b[39m, \u001b[39m2\u001b[39m\u001b[39m/\u001b[39m\u001b[39m3\u001b[39m, \u001b[39m1\u001b[39m, \u001b[39m1\u001b[39m, \u001b[39m1\u001b[39m]\n\u001b[0;32m----> <a href='vscode-notebook-cell:/Users/hedibelkadhi/Regret-Based-Elicitation-1/Regret_based_elicitation%20of%20w.ipynb#Y104sZmlsZQ%3D%3D?line=8'>9</a>\u001b[0m I_spline_functions \u001b[39m=\u001b[39m [\u001b[39mlambda\u001b[39;00m p, j\u001b[39m=\u001b[39mj, k\u001b[39m=\u001b[39mk, t\u001b[39m=\u001b[39mt: I_spline_function(p, j, k, t) \u001b[39mfor\u001b[39;00m j \u001b[39min\u001b[39;00m \u001b[39mrange\u001b[39m(\u001b[39m5\u001b[39m)]  \u001b[39m# Example I-spline functions\u001b[39;00m\n\u001b[1;32m     <a href='vscode-notebook-cell:/Users/hedibelkadhi/Regret-Based-Elicitation-1/Regret_based_elicitation%20of%20w.ipynb#Y104sZmlsZQ%3D%3D?line=9'>10</a>\u001b[0m utility_function \u001b[39m=\u001b[39m \u001b[39mlambda\u001b[39;00m x: x  \u001b[39m# Example utility function (linear)\u001b[39;00m\n\u001b[1;32m     <a href='vscode-notebook-cell:/Users/hedibelkadhi/Regret-Based-Elicitation-1/Regret_based_elicitation%20of%20w.ipynb#Y104sZmlsZQ%3D%3D?line=11'>12</a>\u001b[0m lambda_values, optimal_value \u001b[39m=\u001b[39m solve_regret_minimization(lotteries, k, t, I_spline_functions, utility_function)\n",
      "\u001b[1;32m/Users/hedibelkadhi/Regret-Based-Elicitation-1/Regret_based_elicitation of w.ipynb Cell 54\u001b[0m line \u001b[0;36m2\n\u001b[1;32m      <a href='vscode-notebook-cell:/Users/hedibelkadhi/Regret-Based-Elicitation-1/Regret_based_elicitation%20of%20w.ipynb#Y104sZmlsZQ%3D%3D?line=0'>1</a>\u001b[0m \u001b[39mdef\u001b[39;00m \u001b[39mI_spline_function\u001b[39m(p,j,k,t):\n\u001b[0;32m----> <a href='vscode-notebook-cell:/Users/hedibelkadhi/Regret-Based-Elicitation-1/Regret_based_elicitation%20of%20w.ipynb#Y104sZmlsZQ%3D%3D?line=1'>2</a>\u001b[0m     \u001b[39mreturn\u001b[39;00m I_spline(p,j,k,t)\n",
      "\u001b[1;32m/Users/hedibelkadhi/Regret-Based-Elicitation-1/Regret_based_elicitation of w.ipynb Cell 54\u001b[0m line \u001b[0;36m1\n\u001b[1;32m     <a href='vscode-notebook-cell:/Users/hedibelkadhi/Regret-Based-Elicitation-1/Regret_based_elicitation%20of%20w.ipynb#Y104sZmlsZQ%3D%3D?line=11'>12</a>\u001b[0m somme \u001b[39m=\u001b[39m \u001b[39m0\u001b[39m\n\u001b[1;32m     <a href='vscode-notebook-cell:/Users/hedibelkadhi/Regret-Based-Elicitation-1/Regret_based_elicitation%20of%20w.ipynb#Y104sZmlsZQ%3D%3D?line=12'>13</a>\u001b[0m \u001b[39mfor\u001b[39;00m s \u001b[39min\u001b[39;00m \u001b[39mrange\u001b[39m(i,j\u001b[39m+\u001b[39m\u001b[39m1\u001b[39m):\n\u001b[0;32m---> <a href='vscode-notebook-cell:/Users/hedibelkadhi/Regret-Based-Elicitation-1/Regret_based_elicitation%20of%20w.ipynb#Y104sZmlsZQ%3D%3D?line=13'>14</a>\u001b[0m     somme \u001b[39m+\u001b[39m\u001b[39m=\u001b[39m (t[s\u001b[39m+\u001b[39;49mk\u001b[39m+\u001b[39;49m\u001b[39m1\u001b[39;49m]\u001b[39m-\u001b[39mt[s])\u001b[39m*\u001b[39mM_spline(x, s, k\u001b[39m+\u001b[39m\u001b[39m1\u001b[39m, t)\n\u001b[1;32m     <a href='vscode-notebook-cell:/Users/hedibelkadhi/Regret-Based-Elicitation-1/Regret_based_elicitation%20of%20w.ipynb#Y104sZmlsZQ%3D%3D?line=14'>15</a>\u001b[0m \u001b[39mreturn\u001b[39;00m somme \u001b[39m/\u001b[39m (k\u001b[39m+\u001b[39m\u001b[39m1\u001b[39m)\n",
      "\u001b[0;31mIndexError\u001b[0m: list index out of range"
     ]
    }
   ],
   "source": [
    "# Example usage\n",
    "lotteries = [\n",
    "    [(100, 0.2), (200, 0.5), (300, 0.3)],  # Lottery 1\n",
    "    [(150, 0.4), (250, 0.6)]  # Lottery 2\n",
    "]\n",
    "\n",
    "k = 3\n",
    "t = [0, 0, 0, 1/3, 2/3, 1, 1, 1]\n",
    "I_spline_functions = [lambda p, j=j, k=k, t=t: I_spline_function(p, j, k, t) for j in range(5)]  # Example I-spline functions\n",
    "utility_function = lambda x: x  # Example utility function (linear)\n",
    "\n",
    "lambda_values, optimal_value = solve_regret_minimization(lotteries, k, t, I_spline_functions, utility_function)\n",
    "print(\"Optimal lambda values:\", lambda_values)\n",
    "print(\"Optimal objective value (max regret):\", optimal_value)"
   ]
  },
  {
   "cell_type": "markdown",
   "id": "ee1d0043",
   "metadata": {},
   "source": [
    "##### Simuler une requête de préférence de l'utilisateur entre deux loteries"
   ]
  },
  {
   "cell_type": "code",
   "execution_count": 31,
   "id": "04beef13",
   "metadata": {},
   "outputs": [],
   "source": [
    "def Query(lottery1, lottery2):\n",
    "    return np.random.choice([lottery1, lottery2])"
   ]
  },
  {
   "cell_type": "markdown",
   "id": "36aecf53",
   "metadata": {},
   "source": [
    "#### Regret-based elicitation procedure"
   ]
  },
  {
   "cell_type": "markdown",
   "id": "a39dd107",
   "metadata": {},
   "source": [
    "Procédure d'élucidation basée sur le regret pour trouver la loterie optimale"
   ]
  },
  {
   "cell_type": "code",
   "execution_count": 32,
   "id": "22d59c80",
   "metadata": {},
   "outputs": [],
   "source": [
    "def regret_based_elicitation(lotteries, P, epsilon, k, t, I_spline_functions, u, lambda_values):\n",
    "    # Initialisation de l'algorithme\n",
    "    \n",
    "    # Calcul des fonctions de pondération W à partir des valeurs lambda et des I-splines\n",
    "    W = [lambda p: np.dot(lambda_values, [I_spline(p, j, k, t) for j in range(len(lambda_values))])]\n",
    "    \n",
    "    # Trouver la loterie optimale actuelle, celle qui minimise le regret maximum parmi les autres loteries\n",
    "    optimal_lottery = min(lotteries, key=lambda l: MR(l, lotteries, W))\n",
    "    \n",
    "    # Trouver la loterie \"adversaire\", celle qui maximise le regret par rapport à la loterie optimale\n",
    "    adversary_lottery = max(lotteries, key=lambda l: PMR(optimal_lottery, l, W))\n",
    "    \n",
    "    # Calculer le regret maximal (MMR) pour la loterie optimale actuelle\n",
    "    regret = MMR(W, lotteries)\n",
    "    \n",
    "    # Initialiser le nombre de requêtes de préférence et stocker les regrets successifs\n",
    "    num_queries = 0\n",
    "    regrets = [regret]\n",
    "\n",
    "    # Boucle principale de l'algorithme pour minimiser le regret\n",
    "    while regret > epsilon:\n",
    "        # Simuler une requête pour obtenir la préférence de l'utilisateur entre la loterie optimale et l'adversaire\n",
    "        preference = Query(optimal_lottery, adversary_lottery)\n",
    "        \n",
    "        # Retirer la loterie moins préférée des deux de la liste des loteries restantes\n",
    "        lotteries.remove(min(optimal_lottery, adversary_lottery, key=lambda l: V(l, W[0])))\n",
    "        \n",
    "        # Ajouter la préférence obtenue à l'ensemble P\n",
    "        P.append(preference)\n",
    "        \n",
    "        # Recalculer le regret maximal (MMR) après la mise à jour des préférences\n",
    "        regret = MMR(W, lotteries)\n",
    "        regrets.append(regret)\n",
    "        \n",
    "        # Recalculer la loterie optimale et la loterie adversaire\n",
    "        optimal_lottery = min(lotteries, key=lambda l: MR(l, lotteries, W))\n",
    "        adversary_lottery = max(lotteries, key=lambda l: PMR(optimal_lottery, l, W))\n",
    "        \n",
    "        # Incrémenter le nombre de requêtes de préférence\n",
    "        num_queries += 1\n",
    "\n",
    "    # Retourner la loterie optimale trouvée, la liste des regrets et le nombre de requêtes\n",
    "    return optimal_lottery, regrets, num_queries\n"
   ]
  },
  {
   "cell_type": "markdown",
   "id": "a4831e61",
   "metadata": {},
   "source": [
    "##### Paramètres :\n",
    "\n",
    "* lotteries : Liste des loteries parmi lesquelles choisir.\n",
    "* P : Liste des préférences enregistrées.\n",
    "* epsilon : Seuil de regret à atteindre pour arrêter l'algorithme.\n",
    "* k, t, I_spline_functions, u : Paramètres liés aux fonctions I-splines et à la fonction d'utilité.\n",
    "\n",
    "##### Fonctionnement :\n",
    "\n",
    "* solve_regret_minimization est utilisée pour calculer les lambdas optimaux.\n",
    "* W est une approximation pondérée des fonctions I-splines.\n",
    "* L'algorithme itère jusqu'à ce que le regret soit inférieur à epsilon.\n",
    "\n",
    "##### Retour :\n",
    "\n",
    "* La loterie optimale, la progression du regret, et le nombre de requêtes."
   ]
  },
  {
   "cell_type": "markdown",
   "id": "c257bae2",
   "metadata": {},
   "source": [
    "### Exemple classique :"
   ]
  },
  {
   "cell_type": "code",
   "execution_count": 33,
   "id": "ca5eabde",
   "metadata": {},
   "outputs": [],
   "source": [
    "def calculate_V(lottery, w, u):\n",
    "    n = len(lottery)\n",
    "    somme = 0.0\n",
    "    prob_cum = np.zeros(n)\n",
    "\n",
    "    for i in range(n):\n",
    "        if i == 0:\n",
    "            prob_cum[i] = lottery[i][1]\n",
    "        else:\n",
    "            prob_cum[i] = prob_cum[i-1] + lottery[i][1]\n",
    "\n",
    "    for i in range(n - 1):\n",
    "        somme += w(prob_cum[i]) * (u(lottery[i][0]) - u(lottery[i + 1][0]))\n",
    "\n",
    "    return somme\n",
    "\n",
    "def PMR(lottery1, lottery2, W):\n",
    "    return max([calculate_V(lottery2, w, u) - calculate_V(lottery1, w, u) for w in W])"
   ]
  },
  {
   "cell_type": "code",
   "execution_count": 34,
   "id": "c986ee29",
   "metadata": {
    "scrolled": true
   },
   "outputs": [
    {
     "name": "stdout",
     "output_type": "stream",
     "text": [
      "Welcome to the CBC MILP Solver \n",
      "Version: Trunk\n",
      "Build Date: Oct 28 2021 \n",
      "\n",
      "Starting solution of the Linear programming problem using Primal Simplex\n",
      "\n",
      "Clp0024I Matrix will be packed to eliminate 1 small elements\n",
      "Coin0506I Presolve 0 (-3) rows, 0 (-4) columns and 0 (-11) elements\n",
      "Clp0000I Optimal - objective value 0\n",
      "Coin0511I After Postsolve, objective 0, infeasibilities - dual 0 (0), primal 0 (0)\n",
      "Clp0032I Optimal objective 0 - 0 iterations time 0.002, Presolve 0.00, Idiot 0.00\n"
     ]
    },
    {
     "ename": "NameError",
     "evalue": "name 'MR' is not defined",
     "output_type": "error",
     "traceback": [
      "\u001b[0;31m---------------------------------------------------------------------------\u001b[0m",
      "\u001b[0;31mNameError\u001b[0m                                 Traceback (most recent call last)",
      "\u001b[1;32m/Users/hedibelkadhi/Regret-Based-Elicitation-1/Regret_based_elicitation of w.ipynb Cell 63\u001b[0m line \u001b[0;36m2\n\u001b[1;32m     <a href='vscode-notebook-cell:/Users/hedibelkadhi/Regret-Based-Elicitation-1/Regret_based_elicitation%20of%20w.ipynb#Y116sZmlsZQ%3D%3D?line=20'>21</a>\u001b[0m \u001b[39m# Exécution de l'algorithme d'élicitation basé sur le regret\u001b[39;00m\n\u001b[1;32m     <a href='vscode-notebook-cell:/Users/hedibelkadhi/Regret-Based-Elicitation-1/Regret_based_elicitation%20of%20w.ipynb#Y116sZmlsZQ%3D%3D?line=21'>22</a>\u001b[0m epsilon \u001b[39m=\u001b[39m \u001b[39m0.01\u001b[39m  \u001b[39m# Seuil de regret acceptable\u001b[39;00m\n\u001b[0;32m---> <a href='vscode-notebook-cell:/Users/hedibelkadhi/Regret-Based-Elicitation-1/Regret_based_elicitation%20of%20w.ipynb#Y116sZmlsZQ%3D%3D?line=22'>23</a>\u001b[0m optimal_lottery, regrets, num_queries \u001b[39m=\u001b[39m regret_based_elicitation(loteries, [], epsilon, k, t, I_spline_functions, u, lambda_values)\n\u001b[1;32m     <a href='vscode-notebook-cell:/Users/hedibelkadhi/Regret-Based-Elicitation-1/Regret_based_elicitation%20of%20w.ipynb#Y116sZmlsZQ%3D%3D?line=24'>25</a>\u001b[0m \u001b[39m# Affichage des résultats\u001b[39;00m\n\u001b[1;32m     <a href='vscode-notebook-cell:/Users/hedibelkadhi/Regret-Based-Elicitation-1/Regret_based_elicitation%20of%20w.ipynb#Y116sZmlsZQ%3D%3D?line=25'>26</a>\u001b[0m \u001b[39mprint\u001b[39m(\u001b[39m\"\u001b[39m\u001b[39mLoterie optimale :\u001b[39m\u001b[39m\"\u001b[39m, optimal_lottery)\n",
      "\u001b[1;32m/Users/hedibelkadhi/Regret-Based-Elicitation-1/Regret_based_elicitation of w.ipynb Cell 63\u001b[0m line \u001b[0;36m8\n\u001b[1;32m      <a href='vscode-notebook-cell:/Users/hedibelkadhi/Regret-Based-Elicitation-1/Regret_based_elicitation%20of%20w.ipynb#Y116sZmlsZQ%3D%3D?line=4'>5</a>\u001b[0m W \u001b[39m=\u001b[39m [\u001b[39mlambda\u001b[39;00m p: np\u001b[39m.\u001b[39mdot(lambda_values, [I_spline(p, j, k, t) \u001b[39mfor\u001b[39;00m j \u001b[39min\u001b[39;00m \u001b[39mrange\u001b[39m(\u001b[39mlen\u001b[39m(lambda_values))])]\n\u001b[1;32m      <a href='vscode-notebook-cell:/Users/hedibelkadhi/Regret-Based-Elicitation-1/Regret_based_elicitation%20of%20w.ipynb#Y116sZmlsZQ%3D%3D?line=6'>7</a>\u001b[0m \u001b[39m# Trouver la loterie optimale actuelle, celle qui minimise le regret maximum parmi les autres loteries\u001b[39;00m\n\u001b[0;32m----> <a href='vscode-notebook-cell:/Users/hedibelkadhi/Regret-Based-Elicitation-1/Regret_based_elicitation%20of%20w.ipynb#Y116sZmlsZQ%3D%3D?line=7'>8</a>\u001b[0m optimal_lottery \u001b[39m=\u001b[39m \u001b[39mmin\u001b[39;49m(lotteries, key\u001b[39m=\u001b[39;49m\u001b[39mlambda\u001b[39;49;00m l: MR(l, lotteries, W))\n\u001b[1;32m     <a href='vscode-notebook-cell:/Users/hedibelkadhi/Regret-Based-Elicitation-1/Regret_based_elicitation%20of%20w.ipynb#Y116sZmlsZQ%3D%3D?line=9'>10</a>\u001b[0m \u001b[39m# Trouver la loterie \"adversaire\", celle qui maximise le regret par rapport à la loterie optimale\u001b[39;00m\n\u001b[1;32m     <a href='vscode-notebook-cell:/Users/hedibelkadhi/Regret-Based-Elicitation-1/Regret_based_elicitation%20of%20w.ipynb#Y116sZmlsZQ%3D%3D?line=10'>11</a>\u001b[0m adversary_lottery \u001b[39m=\u001b[39m \u001b[39mmax\u001b[39m(lotteries, key\u001b[39m=\u001b[39m\u001b[39mlambda\u001b[39;00m l: PMR(optimal_lottery, l, W))\n",
      "\u001b[1;32m/Users/hedibelkadhi/Regret-Based-Elicitation-1/Regret_based_elicitation of w.ipynb Cell 63\u001b[0m line \u001b[0;36m8\n\u001b[1;32m      <a href='vscode-notebook-cell:/Users/hedibelkadhi/Regret-Based-Elicitation-1/Regret_based_elicitation%20of%20w.ipynb#Y116sZmlsZQ%3D%3D?line=4'>5</a>\u001b[0m W \u001b[39m=\u001b[39m [\u001b[39mlambda\u001b[39;00m p: np\u001b[39m.\u001b[39mdot(lambda_values, [I_spline(p, j, k, t) \u001b[39mfor\u001b[39;00m j \u001b[39min\u001b[39;00m \u001b[39mrange\u001b[39m(\u001b[39mlen\u001b[39m(lambda_values))])]\n\u001b[1;32m      <a href='vscode-notebook-cell:/Users/hedibelkadhi/Regret-Based-Elicitation-1/Regret_based_elicitation%20of%20w.ipynb#Y116sZmlsZQ%3D%3D?line=6'>7</a>\u001b[0m \u001b[39m# Trouver la loterie optimale actuelle, celle qui minimise le regret maximum parmi les autres loteries\u001b[39;00m\n\u001b[0;32m----> <a href='vscode-notebook-cell:/Users/hedibelkadhi/Regret-Based-Elicitation-1/Regret_based_elicitation%20of%20w.ipynb#Y116sZmlsZQ%3D%3D?line=7'>8</a>\u001b[0m optimal_lottery \u001b[39m=\u001b[39m \u001b[39mmin\u001b[39m(lotteries, key\u001b[39m=\u001b[39m\u001b[39mlambda\u001b[39;00m l: MR(l, lotteries, W))\n\u001b[1;32m     <a href='vscode-notebook-cell:/Users/hedibelkadhi/Regret-Based-Elicitation-1/Regret_based_elicitation%20of%20w.ipynb#Y116sZmlsZQ%3D%3D?line=9'>10</a>\u001b[0m \u001b[39m# Trouver la loterie \"adversaire\", celle qui maximise le regret par rapport à la loterie optimale\u001b[39;00m\n\u001b[1;32m     <a href='vscode-notebook-cell:/Users/hedibelkadhi/Regret-Based-Elicitation-1/Regret_based_elicitation%20of%20w.ipynb#Y116sZmlsZQ%3D%3D?line=10'>11</a>\u001b[0m adversary_lottery \u001b[39m=\u001b[39m \u001b[39mmax\u001b[39m(lotteries, key\u001b[39m=\u001b[39m\u001b[39mlambda\u001b[39;00m l: PMR(optimal_lottery, l, W))\n",
      "\u001b[0;31mNameError\u001b[0m: name 'MR' is not defined"
     ]
    }
   ],
   "source": [
    "# Exemples de loteries\n",
    "loteries = [\n",
    "    [[100, 0.4],[200, 0.6]],  # Loterie 1\n",
    "    [[150, 0.5], [250, 0.5]],  # Loterie 2\n",
    "    [[120, 0.3], [220, 0.7]]   # Loterie 3\n",
    "]\n",
    "\n",
    "# Paramètres pour les I-splines\n",
    "k = 3  # Degré des splines\n",
    "t = [0, 0, 0, 1/3, 2/3, 1, 1, 1]  # Positions des nœuds\n",
    "\n",
    "# Fonction d'utilité linéaire\n",
    "u = lambda x: x\n",
    "\n",
    "# Génération des fonctions I-splines\n",
    "I_spline_functions = [lambda p, j=j, k=k, t=t: I_spline_function(p, j, k, t) for j in range(len(t) - k - 1)]\n",
    "\n",
    "# Résolution du problème de minimisation du regret pour obtenir les lambdas optimaux\n",
    "lambda_values, optimal_value = solve_regret_minimization(loteries, k, t, I_spline_functions, u)\n",
    "\n",
    "# Exécution de l'algorithme d'élicitation basé sur le regret\n",
    "epsilon = 0.01  # Seuil de regret acceptable\n",
    "optimal_lottery, regrets, num_queries = regret_based_elicitation(loteries, [], epsilon, k, t, I_spline_functions, u, lambda_values)\n",
    "\n",
    "# Affichage des résultats\n",
    "print(\"Loterie optimale :\", optimal_lottery)\n",
    "print(\"Liste des regrets au fil des itérations :\", regrets)\n",
    "print(\"Nombre de requêtes de préférence :\", num_queries)"
   ]
  },
  {
   "cell_type": "markdown",
   "id": "f88c587b",
   "metadata": {},
   "source": [
    "### Exemple avec génération de loteries"
   ]
  },
  {
   "cell_type": "code",
   "execution_count": 35,
   "id": "7feffb1c",
   "metadata": {},
   "outputs": [],
   "source": [
    "# Generate lotteries with stochastic dominance check\n",
    "def generate_lotteries(num_lotteries, num_branches):\n",
    "    lotteries = []\n",
    "    while len(lotteries) < num_lotteries:\n",
    "        outcomes = np.random.uniform(0, 1000, num_branches)\n",
    "        probabilities = np.random.dirichlet(np.ones(num_branches), size=1)[0]\n",
    "        lottery = Loterie(list(zip(outcomes, probabilities)))\n",
    "        if not any(stochastic_dominance(lottery, l) or stochastic_dominance(l, lottery) for l in lotteries):\n",
    "            lotteries.append(lottery)\n",
    "    return lotteries"
   ]
  },
  {
   "cell_type": "markdown",
   "id": "8eaa0b66",
   "metadata": {},
   "source": [
    "##### Génère des loteries en vérifiant la dominance stochastique.\n",
    "\n",
    "    Attributs:\n",
    "    - num_lotteries : Nombre de loteries à générer.\n",
    "    - num_branches : Nombre de branches (issues) dans chaque loterie.\n",
    "\n",
    "    Returns:\n",
    "    - lotteries : Liste d'instances de Loterie générées."
   ]
  },
  {
   "cell_type": "code",
   "execution_count": 36,
   "id": "65f97b8b",
   "metadata": {},
   "outputs": [
    {
     "ename": "ValueError",
     "evalue": "Chaque élément de la loterie doit être une liste de la forme [xi, pi].",
     "output_type": "error",
     "traceback": [
      "\u001b[0;31m---------------------------------------------------------------------------\u001b[0m",
      "\u001b[0;31mValueError\u001b[0m                                Traceback (most recent call last)",
      "\u001b[1;32m/Users/hedibelkadhi/Regret-Based-Elicitation-1/Regret_based_elicitation of w.ipynb Cell 67\u001b[0m line \u001b[0;36m3\n\u001b[1;32m      <a href='vscode-notebook-cell:/Users/hedibelkadhi/Regret-Based-Elicitation-1/Regret_based_elicitation%20of%20w.ipynb#Y123sZmlsZQ%3D%3D?line=0'>1</a>\u001b[0m num_lotteries \u001b[39m=\u001b[39m \u001b[39m1000\u001b[39m\n\u001b[1;32m      <a href='vscode-notebook-cell:/Users/hedibelkadhi/Regret-Based-Elicitation-1/Regret_based_elicitation%20of%20w.ipynb#Y123sZmlsZQ%3D%3D?line=1'>2</a>\u001b[0m num_branches \u001b[39m=\u001b[39m \u001b[39m5\u001b[39m\n\u001b[0;32m----> <a href='vscode-notebook-cell:/Users/hedibelkadhi/Regret-Based-Elicitation-1/Regret_based_elicitation%20of%20w.ipynb#Y123sZmlsZQ%3D%3D?line=2'>3</a>\u001b[0m lotteries \u001b[39m=\u001b[39m generate_lotteries(num_lotteries, num_branches)\n\u001b[1;32m      <a href='vscode-notebook-cell:/Users/hedibelkadhi/Regret-Based-Elicitation-1/Regret_based_elicitation%20of%20w.ipynb#Y123sZmlsZQ%3D%3D?line=4'>5</a>\u001b[0m \u001b[39m# Paramètres pour les I-splines\u001b[39;00m\n\u001b[1;32m      <a href='vscode-notebook-cell:/Users/hedibelkadhi/Regret-Based-Elicitation-1/Regret_based_elicitation%20of%20w.ipynb#Y123sZmlsZQ%3D%3D?line=5'>6</a>\u001b[0m k \u001b[39m=\u001b[39m \u001b[39m3\u001b[39m  \u001b[39m# Degré des splines\u001b[39;00m\n",
      "\u001b[1;32m/Users/hedibelkadhi/Regret-Based-Elicitation-1/Regret_based_elicitation of w.ipynb Cell 67\u001b[0m line \u001b[0;36m7\n\u001b[1;32m      <a href='vscode-notebook-cell:/Users/hedibelkadhi/Regret-Based-Elicitation-1/Regret_based_elicitation%20of%20w.ipynb#Y123sZmlsZQ%3D%3D?line=4'>5</a>\u001b[0m outcomes \u001b[39m=\u001b[39m np\u001b[39m.\u001b[39mrandom\u001b[39m.\u001b[39muniform(\u001b[39m0\u001b[39m, \u001b[39m1000\u001b[39m, num_branches)\n\u001b[1;32m      <a href='vscode-notebook-cell:/Users/hedibelkadhi/Regret-Based-Elicitation-1/Regret_based_elicitation%20of%20w.ipynb#Y123sZmlsZQ%3D%3D?line=5'>6</a>\u001b[0m probabilities \u001b[39m=\u001b[39m np\u001b[39m.\u001b[39mrandom\u001b[39m.\u001b[39mdirichlet(np\u001b[39m.\u001b[39mones(num_branches), size\u001b[39m=\u001b[39m\u001b[39m1\u001b[39m)[\u001b[39m0\u001b[39m]\n\u001b[0;32m----> <a href='vscode-notebook-cell:/Users/hedibelkadhi/Regret-Based-Elicitation-1/Regret_based_elicitation%20of%20w.ipynb#Y123sZmlsZQ%3D%3D?line=6'>7</a>\u001b[0m lottery \u001b[39m=\u001b[39m Loterie(\u001b[39mlist\u001b[39;49m(\u001b[39mzip\u001b[39;49m(outcomes, probabilities)))\n\u001b[1;32m      <a href='vscode-notebook-cell:/Users/hedibelkadhi/Regret-Based-Elicitation-1/Regret_based_elicitation%20of%20w.ipynb#Y123sZmlsZQ%3D%3D?line=7'>8</a>\u001b[0m \u001b[39mif\u001b[39;00m \u001b[39mnot\u001b[39;00m \u001b[39many\u001b[39m(stochastic_dominance(lottery, l) \u001b[39mor\u001b[39;00m stochastic_dominance(l, lottery) \u001b[39mfor\u001b[39;00m l \u001b[39min\u001b[39;00m lotteries):\n\u001b[1;32m      <a href='vscode-notebook-cell:/Users/hedibelkadhi/Regret-Based-Elicitation-1/Regret_based_elicitation%20of%20w.ipynb#Y123sZmlsZQ%3D%3D?line=8'>9</a>\u001b[0m     lotteries\u001b[39m.\u001b[39mappend(lottery)\n",
      "\u001b[1;32m/Users/hedibelkadhi/Regret-Based-Elicitation-1/Regret_based_elicitation of w.ipynb Cell 67\u001b[0m line \u001b[0;36m5\n\u001b[1;32m      <a href='vscode-notebook-cell:/Users/hedibelkadhi/Regret-Based-Elicitation-1/Regret_based_elicitation%20of%20w.ipynb#Y123sZmlsZQ%3D%3D?line=1'>2</a>\u001b[0m \u001b[39mdef\u001b[39;00m \u001b[39m__init__\u001b[39m(\u001b[39mself\u001b[39m, loterie):\n\u001b[1;32m      <a href='vscode-notebook-cell:/Users/hedibelkadhi/Regret-Based-Elicitation-1/Regret_based_elicitation%20of%20w.ipynb#Y123sZmlsZQ%3D%3D?line=2'>3</a>\u001b[0m     \u001b[39m# Initialisation de l'objet Loterie avec une liste de résultats probables\u001b[39;00m\n\u001b[1;32m      <a href='vscode-notebook-cell:/Users/hedibelkadhi/Regret-Based-Elicitation-1/Regret_based_elicitation%20of%20w.ipynb#Y123sZmlsZQ%3D%3D?line=3'>4</a>\u001b[0m     \u001b[39mself\u001b[39m\u001b[39m.\u001b[39mloterie \u001b[39m=\u001b[39m loterie\n\u001b[0;32m----> <a href='vscode-notebook-cell:/Users/hedibelkadhi/Regret-Based-Elicitation-1/Regret_based_elicitation%20of%20w.ipynb#Y123sZmlsZQ%3D%3D?line=4'>5</a>\u001b[0m     \u001b[39mself\u001b[39;49m\u001b[39m.\u001b[39;49mvalidate_loterie()  \u001b[39m# Validation de la structure de la loterie\u001b[39;00m\n\u001b[1;32m      <a href='vscode-notebook-cell:/Users/hedibelkadhi/Regret-Based-Elicitation-1/Regret_based_elicitation%20of%20w.ipynb#Y123sZmlsZQ%3D%3D?line=5'>6</a>\u001b[0m     \u001b[39mself\u001b[39m\u001b[39m.\u001b[39msort_loterie()\n",
      "\u001b[1;32m/Users/hedibelkadhi/Regret-Based-Elicitation-1/Regret_based_elicitation of w.ipynb Cell 67\u001b[0m line \u001b[0;36m1\n\u001b[1;32m      <a href='vscode-notebook-cell:/Users/hedibelkadhi/Regret-Based-Elicitation-1/Regret_based_elicitation%20of%20w.ipynb#Y123sZmlsZQ%3D%3D?line=7'>8</a>\u001b[0m \u001b[39mdef\u001b[39;00m \u001b[39mvalidate_loterie\u001b[39m(\u001b[39mself\u001b[39m):\n\u001b[1;32m      <a href='vscode-notebook-cell:/Users/hedibelkadhi/Regret-Based-Elicitation-1/Regret_based_elicitation%20of%20w.ipynb#Y123sZmlsZQ%3D%3D?line=8'>9</a>\u001b[0m     \u001b[39m# Vérifie que chaque élément de la loterie est une liste [xi, pi]\u001b[39;00m\n\u001b[1;32m     <a href='vscode-notebook-cell:/Users/hedibelkadhi/Regret-Based-Elicitation-1/Regret_based_elicitation%20of%20w.ipynb#Y123sZmlsZQ%3D%3D?line=9'>10</a>\u001b[0m     \u001b[39mif\u001b[39;00m \u001b[39mnot\u001b[39;00m \u001b[39mall\u001b[39m(\u001b[39misinstance\u001b[39m(i, \u001b[39mlist\u001b[39m) \u001b[39mand\u001b[39;00m \u001b[39mlen\u001b[39m(i) \u001b[39m==\u001b[39m \u001b[39m2\u001b[39m \u001b[39mfor\u001b[39;00m i \u001b[39min\u001b[39;00m \u001b[39mself\u001b[39m\u001b[39m.\u001b[39mloterie):\n\u001b[0;32m---> <a href='vscode-notebook-cell:/Users/hedibelkadhi/Regret-Based-Elicitation-1/Regret_based_elicitation%20of%20w.ipynb#Y123sZmlsZQ%3D%3D?line=10'>11</a>\u001b[0m         \u001b[39mraise\u001b[39;00m \u001b[39mValueError\u001b[39;00m(\u001b[39m\"\u001b[39m\u001b[39mChaque élément de la loterie doit être une liste de la forme [xi, pi].\u001b[39m\u001b[39m\"\u001b[39m)\n\u001b[1;32m     <a href='vscode-notebook-cell:/Users/hedibelkadhi/Regret-Based-Elicitation-1/Regret_based_elicitation%20of%20w.ipynb#Y123sZmlsZQ%3D%3D?line=12'>13</a>\u001b[0m     \u001b[39m# Vérifie que la somme des probabilités pi est égale à 1\u001b[39;00m\n\u001b[1;32m     <a href='vscode-notebook-cell:/Users/hedibelkadhi/Regret-Based-Elicitation-1/Regret_based_elicitation%20of%20w.ipynb#Y123sZmlsZQ%3D%3D?line=13'>14</a>\u001b[0m     \u001b[39mif\u001b[39;00m \u001b[39mnot\u001b[39;00m np\u001b[39m.\u001b[39misclose(\u001b[39msum\u001b[39m(p \u001b[39mfor\u001b[39;00m _, p \u001b[39min\u001b[39;00m \u001b[39mself\u001b[39m\u001b[39m.\u001b[39mloterie), \u001b[39m1.0\u001b[39m):\n",
      "\u001b[0;31mValueError\u001b[0m: Chaque élément de la loterie doit être une liste de la forme [xi, pi]."
     ]
    }
   ],
   "source": [
    "num_lotteries = 1000\n",
    "num_branches = 5\n",
    "lotteries = generate_lotteries(num_lotteries, num_branches)\n",
    "\n",
    "# Paramètres pour les I-splines\n",
    "k = 3  # Degré des splines\n",
    "t = [0, 0, 0, 1/3, 2/3, 1, 1, 1]  # Positions des nœuds\n",
    "\n",
    "# Fonction d'utilité linéaire\n",
    "u = lambda x: x\n",
    "\n",
    "# Génération des fonctions I-splines\n",
    "I_spline_functions = [lambda p, j=j, k=k, t=t: I_spline_function(p, j, k, t) for j in range(len(t) - k - 1)]\n",
    "\n",
    "# Résolution du problème de minimisation du regret pour obtenir les lambdas optimaux\n",
    "lambda_values, optimal_value = solve_regret_minimization(loteries, k, t, I_spline_functions, u)\n",
    "\n",
    "# Exécution de l'algorithme d'élicitation basé sur le regret\n",
    "epsilon = 0.01  # Seuil de regret acceptable\n",
    "optimal_lottery, regrets, num_queries = regret_based_elicitation(loteries, [], epsilon, k, t, I_spline_functions, u, lambda_values)\n",
    "\n",
    "# Plotting the results\n",
    "plt.plot(regrets, label=\"Max Regret Reduction\", color='green')\n",
    "plt.xlabel(\"Number of Queries\")\n",
    "plt.ylabel(\"Regret\")\n",
    "plt.title(\"Regret Reduction Over Queries\")\n",
    "plt.legend()\n",
    "plt.grid(True)\n",
    "plt.show()"
   ]
  }
 ],
 "metadata": {
  "kernelspec": {
   "display_name": "Python 3 (ipykernel)",
   "language": "python",
   "name": "python3"
  },
  "language_info": {
   "codemirror_mode": {
    "name": "ipython",
    "version": 3
   },
   "file_extension": ".py",
   "mimetype": "text/x-python",
   "name": "python",
   "nbconvert_exporter": "python",
   "pygments_lexer": "ipython3",
   "version": "3.11.5"
  }
 },
 "nbformat": 4,
 "nbformat_minor": 5
}
